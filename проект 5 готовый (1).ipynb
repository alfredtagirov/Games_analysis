{
 "cells": [
  {
   "cell_type": "markdown",
   "id": "3cc314cf",
   "metadata": {},
   "source": [
    "## Описание данных\n",
    "* Name — название игры\n",
    "* Platform — платформа\n",
    "* Year_of_Release — год выпуска\n",
    "* Genre — жанр игры\n",
    "* NA_sales — продажи в Северной Америке (миллионы проданных копий)\n",
    "* EU_sales — продажи в Европе (миллионы проданных копий)\n",
    "* JP_sales — продажи в Японии (миллионы проданных копий)\n",
    "* Other_sales — продажи в других странах (миллионы проданных копий)\n",
    "* Critic_Score — оценка критиков (максимум 100)\n",
    "* User_Score — оценка пользователей (максимум 10)\n",
    "* Rating — рейтинг от организации ESRB (англ. Entertainment Software Rating Board). Эта ассоциация определяет рейтинг компьютерных игр и присваивает им подходящую возрастную категорию.\n",
    "\n",
    "Данные за 2016 год могут быть неполными."
   ]
  },
  {
   "cell_type": "markdown",
   "id": "73f3abc1",
   "metadata": {},
   "source": [
    "## Содержание"
   ]
  },
  {
   "cell_type": "markdown",
   "id": "590c4f0a",
   "metadata": {},
   "source": [
    "### Шаг 1. Откроем файл с данными и изучим общую информацию"
   ]
  },
  {
   "cell_type": "code",
   "execution_count": 9,
   "id": "56920aac",
   "metadata": {},
   "outputs": [],
   "source": [
    "# Импорт библиотек\n",
    "import pandas as pd\n",
    "import numpy as np\n",
    "import matplotlib.pyplot as plt\n",
    "import seaborn as sns\n",
    "from scipy import stats as st\n",
    "import warnings"
   ]
  },
  {
   "cell_type": "code",
   "execution_count": 2,
   "id": "ebe597ac",
   "metadata": {},
   "outputs": [
    {
     "data": {
      "text/html": [
       "<div>\n",
       "<style scoped>\n",
       "    .dataframe tbody tr th:only-of-type {\n",
       "        vertical-align: middle;\n",
       "    }\n",
       "\n",
       "    .dataframe tbody tr th {\n",
       "        vertical-align: top;\n",
       "    }\n",
       "\n",
       "    .dataframe thead th {\n",
       "        text-align: right;\n",
       "    }\n",
       "</style>\n",
       "<table border=\"1\" class=\"dataframe\">\n",
       "  <thead>\n",
       "    <tr style=\"text-align: right;\">\n",
       "      <th></th>\n",
       "      <th>Name</th>\n",
       "      <th>Platform</th>\n",
       "      <th>Year_of_Release</th>\n",
       "      <th>Genre</th>\n",
       "      <th>NA_sales</th>\n",
       "      <th>EU_sales</th>\n",
       "      <th>JP_sales</th>\n",
       "      <th>Other_sales</th>\n",
       "      <th>Critic_Score</th>\n",
       "      <th>User_Score</th>\n",
       "      <th>Rating</th>\n",
       "    </tr>\n",
       "  </thead>\n",
       "  <tbody>\n",
       "    <tr>\n",
       "      <th>0</th>\n",
       "      <td>Wii Sports</td>\n",
       "      <td>Wii</td>\n",
       "      <td>2006.0</td>\n",
       "      <td>Sports</td>\n",
       "      <td>41.36</td>\n",
       "      <td>28.96</td>\n",
       "      <td>3.77</td>\n",
       "      <td>8.45</td>\n",
       "      <td>76.0</td>\n",
       "      <td>8</td>\n",
       "      <td>E</td>\n",
       "    </tr>\n",
       "    <tr>\n",
       "      <th>1</th>\n",
       "      <td>Super Mario Bros.</td>\n",
       "      <td>NES</td>\n",
       "      <td>1985.0</td>\n",
       "      <td>Platform</td>\n",
       "      <td>29.08</td>\n",
       "      <td>3.58</td>\n",
       "      <td>6.81</td>\n",
       "      <td>0.77</td>\n",
       "      <td>NaN</td>\n",
       "      <td>NaN</td>\n",
       "      <td>NaN</td>\n",
       "    </tr>\n",
       "    <tr>\n",
       "      <th>2</th>\n",
       "      <td>Mario Kart Wii</td>\n",
       "      <td>Wii</td>\n",
       "      <td>2008.0</td>\n",
       "      <td>Racing</td>\n",
       "      <td>15.68</td>\n",
       "      <td>12.76</td>\n",
       "      <td>3.79</td>\n",
       "      <td>3.29</td>\n",
       "      <td>82.0</td>\n",
       "      <td>8.3</td>\n",
       "      <td>E</td>\n",
       "    </tr>\n",
       "    <tr>\n",
       "      <th>3</th>\n",
       "      <td>Wii Sports Resort</td>\n",
       "      <td>Wii</td>\n",
       "      <td>2009.0</td>\n",
       "      <td>Sports</td>\n",
       "      <td>15.61</td>\n",
       "      <td>10.93</td>\n",
       "      <td>3.28</td>\n",
       "      <td>2.95</td>\n",
       "      <td>80.0</td>\n",
       "      <td>8</td>\n",
       "      <td>E</td>\n",
       "    </tr>\n",
       "    <tr>\n",
       "      <th>4</th>\n",
       "      <td>Pokemon Red/Pokemon Blue</td>\n",
       "      <td>GB</td>\n",
       "      <td>1996.0</td>\n",
       "      <td>Role-Playing</td>\n",
       "      <td>11.27</td>\n",
       "      <td>8.89</td>\n",
       "      <td>10.22</td>\n",
       "      <td>1.00</td>\n",
       "      <td>NaN</td>\n",
       "      <td>NaN</td>\n",
       "      <td>NaN</td>\n",
       "    </tr>\n",
       "    <tr>\n",
       "      <th>5</th>\n",
       "      <td>Tetris</td>\n",
       "      <td>GB</td>\n",
       "      <td>1989.0</td>\n",
       "      <td>Puzzle</td>\n",
       "      <td>23.20</td>\n",
       "      <td>2.26</td>\n",
       "      <td>4.22</td>\n",
       "      <td>0.58</td>\n",
       "      <td>NaN</td>\n",
       "      <td>NaN</td>\n",
       "      <td>NaN</td>\n",
       "    </tr>\n",
       "    <tr>\n",
       "      <th>6</th>\n",
       "      <td>New Super Mario Bros.</td>\n",
       "      <td>DS</td>\n",
       "      <td>2006.0</td>\n",
       "      <td>Platform</td>\n",
       "      <td>11.28</td>\n",
       "      <td>9.14</td>\n",
       "      <td>6.50</td>\n",
       "      <td>2.88</td>\n",
       "      <td>89.0</td>\n",
       "      <td>8.5</td>\n",
       "      <td>E</td>\n",
       "    </tr>\n",
       "    <tr>\n",
       "      <th>7</th>\n",
       "      <td>Wii Play</td>\n",
       "      <td>Wii</td>\n",
       "      <td>2006.0</td>\n",
       "      <td>Misc</td>\n",
       "      <td>13.96</td>\n",
       "      <td>9.18</td>\n",
       "      <td>2.93</td>\n",
       "      <td>2.84</td>\n",
       "      <td>58.0</td>\n",
       "      <td>6.6</td>\n",
       "      <td>E</td>\n",
       "    </tr>\n",
       "    <tr>\n",
       "      <th>8</th>\n",
       "      <td>New Super Mario Bros. Wii</td>\n",
       "      <td>Wii</td>\n",
       "      <td>2009.0</td>\n",
       "      <td>Platform</td>\n",
       "      <td>14.44</td>\n",
       "      <td>6.94</td>\n",
       "      <td>4.70</td>\n",
       "      <td>2.24</td>\n",
       "      <td>87.0</td>\n",
       "      <td>8.4</td>\n",
       "      <td>E</td>\n",
       "    </tr>\n",
       "    <tr>\n",
       "      <th>9</th>\n",
       "      <td>Duck Hunt</td>\n",
       "      <td>NES</td>\n",
       "      <td>1984.0</td>\n",
       "      <td>Shooter</td>\n",
       "      <td>26.93</td>\n",
       "      <td>0.63</td>\n",
       "      <td>0.28</td>\n",
       "      <td>0.47</td>\n",
       "      <td>NaN</td>\n",
       "      <td>NaN</td>\n",
       "      <td>NaN</td>\n",
       "    </tr>\n",
       "  </tbody>\n",
       "</table>\n",
       "</div>"
      ],
      "text/plain": [
       "                        Name Platform  Year_of_Release         Genre  \\\n",
       "0                 Wii Sports      Wii           2006.0        Sports   \n",
       "1          Super Mario Bros.      NES           1985.0      Platform   \n",
       "2             Mario Kart Wii      Wii           2008.0        Racing   \n",
       "3          Wii Sports Resort      Wii           2009.0        Sports   \n",
       "4   Pokemon Red/Pokemon Blue       GB           1996.0  Role-Playing   \n",
       "5                     Tetris       GB           1989.0        Puzzle   \n",
       "6      New Super Mario Bros.       DS           2006.0      Platform   \n",
       "7                   Wii Play      Wii           2006.0          Misc   \n",
       "8  New Super Mario Bros. Wii      Wii           2009.0      Platform   \n",
       "9                  Duck Hunt      NES           1984.0       Shooter   \n",
       "\n",
       "   NA_sales  EU_sales  JP_sales  Other_sales  Critic_Score User_Score Rating  \n",
       "0     41.36     28.96      3.77         8.45          76.0          8      E  \n",
       "1     29.08      3.58      6.81         0.77           NaN        NaN    NaN  \n",
       "2     15.68     12.76      3.79         3.29          82.0        8.3      E  \n",
       "3     15.61     10.93      3.28         2.95          80.0          8      E  \n",
       "4     11.27      8.89     10.22         1.00           NaN        NaN    NaN  \n",
       "5     23.20      2.26      4.22         0.58           NaN        NaN    NaN  \n",
       "6     11.28      9.14      6.50         2.88          89.0        8.5      E  \n",
       "7     13.96      9.18      2.93         2.84          58.0        6.6      E  \n",
       "8     14.44      6.94      4.70         2.24          87.0        8.4      E  \n",
       "9     26.93      0.63      0.28         0.47           NaN        NaN    NaN  "
      ]
     },
     "execution_count": 2,
     "metadata": {},
     "output_type": "execute_result"
    }
   ],
   "source": [
    "# Просмотр таблицы \n",
    "df = pd.read_csv('/datasets/games.csv') \n",
    "df.head(10)"
   ]
  },
  {
   "cell_type": "code",
   "execution_count": 3,
   "id": "67b0691a",
   "metadata": {},
   "outputs": [
    {
     "name": "stdout",
     "output_type": "stream",
     "text": [
      "<class 'pandas.core.frame.DataFrame'>\n",
      "RangeIndex: 16715 entries, 0 to 16714\n",
      "Data columns (total 11 columns):\n",
      " #   Column           Non-Null Count  Dtype  \n",
      "---  ------           --------------  -----  \n",
      " 0   Name             16713 non-null  object \n",
      " 1   Platform         16715 non-null  object \n",
      " 2   Year_of_Release  16446 non-null  float64\n",
      " 3   Genre            16713 non-null  object \n",
      " 4   NA_sales         16715 non-null  float64\n",
      " 5   EU_sales         16715 non-null  float64\n",
      " 6   JP_sales         16715 non-null  float64\n",
      " 7   Other_sales      16715 non-null  float64\n",
      " 8   Critic_Score     8137 non-null   float64\n",
      " 9   User_Score       10014 non-null  object \n",
      " 10  Rating           9949 non-null   object \n",
      "dtypes: float64(6), object(5)\n",
      "memory usage: 1.4+ MB\n"
     ]
    }
   ],
   "source": [
    "# Получение общей информации о данных в таблице df\n",
    "df.info()"
   ]
  },
  {
   "cell_type": "markdown",
   "id": "13d70438",
   "metadata": {},
   "source": [
    "#### Вывод\n",
    "В таблице названия столбцов начинаются с большой буквы, изменю на маленькую для удобства работы, также в некоторых столбцах много пропущенных значений, изучим их поподробней чтобы заменить или удалить пропущенные значения"
   ]
  },
  {
   "cell_type": "markdown",
   "id": "8ce0d6ee",
   "metadata": {},
   "source": [
    "### Шаг 2. Подготовим данные"
   ]
  },
  {
   "cell_type": "code",
   "execution_count": 4,
   "id": "b0f71bd5",
   "metadata": {},
   "outputs": [
    {
     "data": {
      "text/plain": [
       "Index(['name', 'platform', 'year_of_release', 'genre', 'na_sales', 'eu_sales',\n",
       "       'jp_sales', 'other_sales', 'critic_score', 'user_score', 'rating'],\n",
       "      dtype='object')"
      ]
     },
     "execution_count": 4,
     "metadata": {},
     "output_type": "execute_result"
    }
   ],
   "source": [
    "# переименование столбцов\n",
    "df = df.rename(columns=lambda col: col.lower())\n",
    "df.columns"
   ]
  },
  {
   "cell_type": "code",
   "execution_count": 5,
   "id": "99ff275a",
   "metadata": {},
   "outputs": [
    {
     "data": {
      "text/plain": [
       "name                  2\n",
       "platform              0\n",
       "year_of_release     269\n",
       "genre                 2\n",
       "na_sales              0\n",
       "eu_sales              0\n",
       "jp_sales              0\n",
       "other_sales           0\n",
       "critic_score       8578\n",
       "user_score         6701\n",
       "rating             6766\n",
       "dtype: int64"
      ]
     },
     "execution_count": 5,
     "metadata": {},
     "output_type": "execute_result"
    }
   ],
   "source": [
    "# подсчет пропусков\n",
    "df.isna().sum()"
   ]
  },
  {
   "cell_type": "markdown",
   "id": "8187641a",
   "metadata": {},
   "source": [
    "В столбцах 'name' и 'genre' по 2 пропущенных значения, удалю их"
   ]
  },
  {
   "cell_type": "code",
   "execution_count": 6,
   "id": "35ab0e52",
   "metadata": {},
   "outputs": [],
   "source": [
    "# удаление пропусков\n",
    "df = df.dropna(subset=['name','genre'])"
   ]
  },
  {
   "cell_type": "markdown",
   "id": "0c0cbd8c",
   "metadata": {},
   "source": [
    "Для столбца 'year_of_release' посмотрим связаны ли пропуски с какой либо определенной платформой, жанром или рейтигом."
   ]
  },
  {
   "cell_type": "code",
   "execution_count": 7,
   "id": "689bfdae",
   "metadata": {},
   "outputs": [
    {
     "data": {
      "text/plain": [
       "platform\n",
       "2600     116\n",
       "3DO        3\n",
       "3DS      512\n",
       "DC        52\n",
       "DS      2121\n",
       "GB        97\n",
       "GBA      811\n",
       "GC       542\n",
       "GEN       27\n",
       "GG         1\n",
       "N64      316\n",
       "NES       98\n",
       "NG        12\n",
       "PC       957\n",
       "PCFX       1\n",
       "PS      1190\n",
       "PS2     2127\n",
       "PS3     1306\n",
       "PS4      392\n",
       "PSP     1193\n",
       "PSV      429\n",
       "SAT      173\n",
       "SCD        6\n",
       "SNES     239\n",
       "TG16       2\n",
       "WS         6\n",
       "Wii     1286\n",
       "WiiU     147\n",
       "X360    1232\n",
       "XB       803\n",
       "XOne     247\n",
       "Name: year_of_release, dtype: int64"
      ]
     },
     "execution_count": 7,
     "metadata": {},
     "output_type": "execute_result"
    }
   ],
   "source": [
    "# сгруппировал по платформам\n",
    "df.groupby('platform')['year_of_release'].count()"
   ]
  },
  {
   "cell_type": "markdown",
   "id": "2a8a69a2",
   "metadata": {},
   "source": [
    "Для платформ PCFX, GG, TG16 очень мало значений по году выпуска, проверим сколько игр выходило для них"
   ]
  },
  {
   "cell_type": "code",
   "execution_count": 8,
   "id": "0e2be49e",
   "metadata": {},
   "outputs": [
    {
     "data": {
      "text/plain": [
       "platform\n",
       "2600     133\n",
       "3DO        3\n",
       "3DS      520\n",
       "DC        52\n",
       "DS      2151\n",
       "GB        98\n",
       "GBA      822\n",
       "GC       556\n",
       "GEN       27\n",
       "GG         1\n",
       "N64      319\n",
       "NES       98\n",
       "NG        12\n",
       "PC       974\n",
       "PCFX       1\n",
       "PS      1197\n",
       "PS2     2161\n",
       "PS3     1331\n",
       "PS4      392\n",
       "PSP     1209\n",
       "PSV      430\n",
       "SAT      173\n",
       "SCD        6\n",
       "SNES     239\n",
       "TG16       2\n",
       "WS         6\n",
       "Wii     1320\n",
       "WiiU     147\n",
       "X360    1262\n",
       "XB       824\n",
       "XOne     247\n",
       "Name: name, dtype: int64"
      ]
     },
     "execution_count": 8,
     "metadata": {},
     "output_type": "execute_result"
    }
   ],
   "source": [
    "# сгруппировал платформы по играм\n",
    "df.groupby('platform')['name'].count()"
   ]
  },
  {
   "cell_type": "markdown",
   "id": "7c89ca93",
   "metadata": {},
   "source": [
    "Игр для данных платформ вышло не густо, отвергаем теорию о том что пропущенные значения по годам связаны с платформой"
   ]
  },
  {
   "cell_type": "code",
   "execution_count": 9,
   "id": "e29f7d0f",
   "metadata": {},
   "outputs": [
    {
     "data": {
      "text/plain": [
       "genre\n",
       "Action          3307\n",
       "Adventure       1293\n",
       "Fighting         837\n",
       "Misc            1721\n",
       "Platform         878\n",
       "Puzzle           569\n",
       "Racing          1226\n",
       "Role-Playing    1481\n",
       "Shooter         1296\n",
       "Simulation       857\n",
       "Sports          2306\n",
       "Strategy         673\n",
       "Name: year_of_release, dtype: int64"
      ]
     },
     "execution_count": 9,
     "metadata": {},
     "output_type": "execute_result"
    }
   ],
   "source": [
    "# сгруппировал по жанрам\n",
    "df.groupby('genre')['year_of_release'].count()"
   ]
  },
  {
   "cell_type": "code",
   "execution_count": 10,
   "id": "41c63d3f",
   "metadata": {},
   "outputs": [
    {
     "data": {
      "text/plain": [
       "rating\n",
       "AO         1\n",
       "E       3921\n",
       "E10+    1393\n",
       "EC         8\n",
       "K-A        3\n",
       "M       1536\n",
       "RP         1\n",
       "T       2905\n",
       "Name: year_of_release, dtype: int64"
      ]
     },
     "execution_count": 10,
     "metadata": {},
     "output_type": "execute_result"
    }
   ],
   "source": [
    "# сгруппировал по рейтингу\n",
    "df.groupby('rating')['year_of_release'].count()"
   ]
  },
  {
   "cell_type": "markdown",
   "id": "00ed65bd",
   "metadata": {},
   "source": [
    "Проверю также сколько игр вышло с рейтингом AO, K-A, RP"
   ]
  },
  {
   "cell_type": "code",
   "execution_count": 11,
   "id": "a6ac0e66",
   "metadata": {},
   "outputs": [
    {
     "data": {
      "text/plain": [
       "rating\n",
       "AO         1\n",
       "E       3990\n",
       "E10+    1420\n",
       "EC         8\n",
       "K-A        3\n",
       "M       1563\n",
       "RP         3\n",
       "T       2961\n",
       "Name: name, dtype: int64"
      ]
     },
     "execution_count": 11,
     "metadata": {},
     "output_type": "execute_result"
    }
   ],
   "source": [
    "# сгруппировал игры по рейтингу\n",
    "df.groupby('rating')['name'].count()"
   ]
  },
  {
   "cell_type": "markdown",
   "id": "38e7b928",
   "metadata": {},
   "source": [
    "Прпущенные значения в годах не связаны ни с определенной платформой ни с жанром ни с рейтигом. Возможно также что определенная игра выходила для разных платформ в один год, но данные по выходу есть только для одной платформы, проверим"
   ]
  },
  {
   "cell_type": "code",
   "execution_count": 12,
   "id": "b67c96ab",
   "metadata": {},
   "outputs": [
    {
     "data": {
      "text/html": [
       "<div>\n",
       "<style scoped>\n",
       "    .dataframe tbody tr th:only-of-type {\n",
       "        vertical-align: middle;\n",
       "    }\n",
       "\n",
       "    .dataframe tbody tr th {\n",
       "        vertical-align: top;\n",
       "    }\n",
       "\n",
       "    .dataframe thead th {\n",
       "        text-align: right;\n",
       "    }\n",
       "</style>\n",
       "<table border=\"1\" class=\"dataframe\">\n",
       "  <thead>\n",
       "    <tr style=\"text-align: right;\">\n",
       "      <th></th>\n",
       "      <th>name</th>\n",
       "      <th>platform_x</th>\n",
       "      <th>platform_y</th>\n",
       "      <th>year_of_release</th>\n",
       "      <th>genre</th>\n",
       "      <th>na_sales</th>\n",
       "      <th>eu_sales</th>\n",
       "      <th>jp_sales</th>\n",
       "      <th>other_sales</th>\n",
       "      <th>critic_score</th>\n",
       "      <th>user_score</th>\n",
       "      <th>rating</th>\n",
       "    </tr>\n",
       "  </thead>\n",
       "  <tbody>\n",
       "    <tr>\n",
       "      <th>0</th>\n",
       "      <td>Frozen: Olaf's Quest</td>\n",
       "      <td>2</td>\n",
       "      <td>3DS</td>\n",
       "      <td>2013.0</td>\n",
       "      <td>Platform</td>\n",
       "      <td>0.27</td>\n",
       "      <td>0.27</td>\n",
       "      <td>0.00</td>\n",
       "      <td>0.05</td>\n",
       "      <td>NaN</td>\n",
       "      <td>NaN</td>\n",
       "      <td>NaN</td>\n",
       "    </tr>\n",
       "    <tr>\n",
       "      <th>1</th>\n",
       "      <td>Frozen: Olaf's Quest</td>\n",
       "      <td>2</td>\n",
       "      <td>DS</td>\n",
       "      <td>2013.0</td>\n",
       "      <td>Platform</td>\n",
       "      <td>0.21</td>\n",
       "      <td>0.26</td>\n",
       "      <td>0.00</td>\n",
       "      <td>0.04</td>\n",
       "      <td>NaN</td>\n",
       "      <td>NaN</td>\n",
       "      <td>NaN</td>\n",
       "    </tr>\n",
       "    <tr>\n",
       "      <th>2</th>\n",
       "      <td>007: Quantum of Solace</td>\n",
       "      <td>6</td>\n",
       "      <td>X360</td>\n",
       "      <td>2008.0</td>\n",
       "      <td>Action</td>\n",
       "      <td>0.82</td>\n",
       "      <td>0.51</td>\n",
       "      <td>0.01</td>\n",
       "      <td>0.14</td>\n",
       "      <td>65.0</td>\n",
       "      <td>7.1</td>\n",
       "      <td>T</td>\n",
       "    </tr>\n",
       "    <tr>\n",
       "      <th>3</th>\n",
       "      <td>007: Quantum of Solace</td>\n",
       "      <td>6</td>\n",
       "      <td>PS3</td>\n",
       "      <td>2008.0</td>\n",
       "      <td>Action</td>\n",
       "      <td>0.43</td>\n",
       "      <td>0.51</td>\n",
       "      <td>0.02</td>\n",
       "      <td>0.19</td>\n",
       "      <td>65.0</td>\n",
       "      <td>6.6</td>\n",
       "      <td>T</td>\n",
       "    </tr>\n",
       "    <tr>\n",
       "      <th>4</th>\n",
       "      <td>007: Quantum of Solace</td>\n",
       "      <td>6</td>\n",
       "      <td>Wii</td>\n",
       "      <td>2008.0</td>\n",
       "      <td>Action</td>\n",
       "      <td>0.29</td>\n",
       "      <td>0.28</td>\n",
       "      <td>0.01</td>\n",
       "      <td>0.07</td>\n",
       "      <td>54.0</td>\n",
       "      <td>7.5</td>\n",
       "      <td>T</td>\n",
       "    </tr>\n",
       "    <tr>\n",
       "      <th>5</th>\n",
       "      <td>007: Quantum of Solace</td>\n",
       "      <td>6</td>\n",
       "      <td>PS2</td>\n",
       "      <td>2008.0</td>\n",
       "      <td>Action</td>\n",
       "      <td>0.17</td>\n",
       "      <td>0.00</td>\n",
       "      <td>0.00</td>\n",
       "      <td>0.26</td>\n",
       "      <td>NaN</td>\n",
       "      <td>NaN</td>\n",
       "      <td>NaN</td>\n",
       "    </tr>\n",
       "    <tr>\n",
       "      <th>6</th>\n",
       "      <td>007: Quantum of Solace</td>\n",
       "      <td>6</td>\n",
       "      <td>DS</td>\n",
       "      <td>2008.0</td>\n",
       "      <td>Action</td>\n",
       "      <td>0.11</td>\n",
       "      <td>0.01</td>\n",
       "      <td>0.00</td>\n",
       "      <td>0.01</td>\n",
       "      <td>65.0</td>\n",
       "      <td>tbd</td>\n",
       "      <td>T</td>\n",
       "    </tr>\n",
       "    <tr>\n",
       "      <th>7</th>\n",
       "      <td>007: Quantum of Solace</td>\n",
       "      <td>6</td>\n",
       "      <td>PC</td>\n",
       "      <td>2008.0</td>\n",
       "      <td>Action</td>\n",
       "      <td>0.01</td>\n",
       "      <td>0.01</td>\n",
       "      <td>0.00</td>\n",
       "      <td>0.00</td>\n",
       "      <td>70.0</td>\n",
       "      <td>6.3</td>\n",
       "      <td>T</td>\n",
       "    </tr>\n",
       "    <tr>\n",
       "      <th>8</th>\n",
       "      <td>007: The World is not Enough</td>\n",
       "      <td>2</td>\n",
       "      <td>N64</td>\n",
       "      <td>2000.0</td>\n",
       "      <td>Action</td>\n",
       "      <td>1.13</td>\n",
       "      <td>0.38</td>\n",
       "      <td>0.02</td>\n",
       "      <td>0.03</td>\n",
       "      <td>NaN</td>\n",
       "      <td>NaN</td>\n",
       "      <td>NaN</td>\n",
       "    </tr>\n",
       "    <tr>\n",
       "      <th>9</th>\n",
       "      <td>007: The World is not Enough</td>\n",
       "      <td>2</td>\n",
       "      <td>PS</td>\n",
       "      <td>2000.0</td>\n",
       "      <td>Action</td>\n",
       "      <td>0.51</td>\n",
       "      <td>0.35</td>\n",
       "      <td>0.00</td>\n",
       "      <td>0.06</td>\n",
       "      <td>61.0</td>\n",
       "      <td>6.7</td>\n",
       "      <td>T</td>\n",
       "    </tr>\n",
       "    <tr>\n",
       "      <th>10</th>\n",
       "      <td>11eyes: CrossOver</td>\n",
       "      <td>2</td>\n",
       "      <td>X360</td>\n",
       "      <td>2009.0</td>\n",
       "      <td>Adventure</td>\n",
       "      <td>0.00</td>\n",
       "      <td>0.00</td>\n",
       "      <td>0.02</td>\n",
       "      <td>0.00</td>\n",
       "      <td>NaN</td>\n",
       "      <td>NaN</td>\n",
       "      <td>NaN</td>\n",
       "    </tr>\n",
       "    <tr>\n",
       "      <th>11</th>\n",
       "      <td>11eyes: CrossOver</td>\n",
       "      <td>2</td>\n",
       "      <td>PSP</td>\n",
       "      <td>2010.0</td>\n",
       "      <td>Adventure</td>\n",
       "      <td>0.00</td>\n",
       "      <td>0.00</td>\n",
       "      <td>0.02</td>\n",
       "      <td>0.00</td>\n",
       "      <td>NaN</td>\n",
       "      <td>NaN</td>\n",
       "      <td>NaN</td>\n",
       "    </tr>\n",
       "    <tr>\n",
       "      <th>12</th>\n",
       "      <td>18 Wheeler: American Pro Trucker</td>\n",
       "      <td>2</td>\n",
       "      <td>PS2</td>\n",
       "      <td>2001.0</td>\n",
       "      <td>Racing</td>\n",
       "      <td>0.20</td>\n",
       "      <td>0.15</td>\n",
       "      <td>0.00</td>\n",
       "      <td>0.05</td>\n",
       "      <td>61.0</td>\n",
       "      <td>5.7</td>\n",
       "      <td>E</td>\n",
       "    </tr>\n",
       "    <tr>\n",
       "      <th>13</th>\n",
       "      <td>18 Wheeler: American Pro Trucker</td>\n",
       "      <td>2</td>\n",
       "      <td>GC</td>\n",
       "      <td>2002.0</td>\n",
       "      <td>Racing</td>\n",
       "      <td>0.09</td>\n",
       "      <td>0.02</td>\n",
       "      <td>0.00</td>\n",
       "      <td>0.00</td>\n",
       "      <td>52.0</td>\n",
       "      <td>6.8</td>\n",
       "      <td>E</td>\n",
       "    </tr>\n",
       "    <tr>\n",
       "      <th>14</th>\n",
       "      <td>187: Ride or Die</td>\n",
       "      <td>2</td>\n",
       "      <td>PS2</td>\n",
       "      <td>2005.0</td>\n",
       "      <td>Racing</td>\n",
       "      <td>0.07</td>\n",
       "      <td>0.06</td>\n",
       "      <td>0.00</td>\n",
       "      <td>0.02</td>\n",
       "      <td>52.0</td>\n",
       "      <td>6.8</td>\n",
       "      <td>M</td>\n",
       "    </tr>\n",
       "    <tr>\n",
       "      <th>15</th>\n",
       "      <td>187: Ride or Die</td>\n",
       "      <td>2</td>\n",
       "      <td>XB</td>\n",
       "      <td>2005.0</td>\n",
       "      <td>Racing</td>\n",
       "      <td>0.05</td>\n",
       "      <td>0.01</td>\n",
       "      <td>0.00</td>\n",
       "      <td>0.00</td>\n",
       "      <td>51.0</td>\n",
       "      <td>6.9</td>\n",
       "      <td>M</td>\n",
       "    </tr>\n",
       "    <tr>\n",
       "      <th>16</th>\n",
       "      <td>2 in 1 Combo Pack: Sonic Heroes / Super Monkey...</td>\n",
       "      <td>2</td>\n",
       "      <td>XB</td>\n",
       "      <td>2004.0</td>\n",
       "      <td>Misc</td>\n",
       "      <td>0.40</td>\n",
       "      <td>0.11</td>\n",
       "      <td>0.00</td>\n",
       "      <td>0.02</td>\n",
       "      <td>NaN</td>\n",
       "      <td>NaN</td>\n",
       "      <td>NaN</td>\n",
       "    </tr>\n",
       "    <tr>\n",
       "      <th>17</th>\n",
       "      <td>2 in 1 Combo Pack: Sonic Heroes / Super Monkey...</td>\n",
       "      <td>2</td>\n",
       "      <td>X360</td>\n",
       "      <td>2013.0</td>\n",
       "      <td>Misc</td>\n",
       "      <td>0.09</td>\n",
       "      <td>0.01</td>\n",
       "      <td>0.00</td>\n",
       "      <td>0.01</td>\n",
       "      <td>NaN</td>\n",
       "      <td>NaN</td>\n",
       "      <td>NaN</td>\n",
       "    </tr>\n",
       "    <tr>\n",
       "      <th>18</th>\n",
       "      <td>2002 FIFA World Cup</td>\n",
       "      <td>3</td>\n",
       "      <td>PS2</td>\n",
       "      <td>2002.0</td>\n",
       "      <td>Sports</td>\n",
       "      <td>0.21</td>\n",
       "      <td>0.17</td>\n",
       "      <td>0.16</td>\n",
       "      <td>0.06</td>\n",
       "      <td>73.0</td>\n",
       "      <td>5.6</td>\n",
       "      <td>E</td>\n",
       "    </tr>\n",
       "    <tr>\n",
       "      <th>19</th>\n",
       "      <td>2002 FIFA World Cup</td>\n",
       "      <td>3</td>\n",
       "      <td>XB</td>\n",
       "      <td>2002.0</td>\n",
       "      <td>Sports</td>\n",
       "      <td>0.14</td>\n",
       "      <td>0.04</td>\n",
       "      <td>0.00</td>\n",
       "      <td>0.01</td>\n",
       "      <td>79.0</td>\n",
       "      <td>9</td>\n",
       "      <td>E</td>\n",
       "    </tr>\n",
       "  </tbody>\n",
       "</table>\n",
       "</div>"
      ],
      "text/plain": [
       "                                                 name  platform_x platform_y  \\\n",
       "0                                Frozen: Olaf's Quest           2        3DS   \n",
       "1                                Frozen: Olaf's Quest           2         DS   \n",
       "2                              007: Quantum of Solace           6       X360   \n",
       "3                              007: Quantum of Solace           6        PS3   \n",
       "4                              007: Quantum of Solace           6        Wii   \n",
       "5                              007: Quantum of Solace           6        PS2   \n",
       "6                              007: Quantum of Solace           6         DS   \n",
       "7                              007: Quantum of Solace           6         PC   \n",
       "8                        007: The World is not Enough           2        N64   \n",
       "9                        007: The World is not Enough           2         PS   \n",
       "10                                  11eyes: CrossOver           2       X360   \n",
       "11                                  11eyes: CrossOver           2        PSP   \n",
       "12                   18 Wheeler: American Pro Trucker           2        PS2   \n",
       "13                   18 Wheeler: American Pro Trucker           2         GC   \n",
       "14                                   187: Ride or Die           2        PS2   \n",
       "15                                   187: Ride or Die           2         XB   \n",
       "16  2 in 1 Combo Pack: Sonic Heroes / Super Monkey...           2         XB   \n",
       "17  2 in 1 Combo Pack: Sonic Heroes / Super Monkey...           2       X360   \n",
       "18                                2002 FIFA World Cup           3        PS2   \n",
       "19                                2002 FIFA World Cup           3         XB   \n",
       "\n",
       "    year_of_release      genre  na_sales  eu_sales  jp_sales  other_sales  \\\n",
       "0            2013.0   Platform      0.27      0.27      0.00         0.05   \n",
       "1            2013.0   Platform      0.21      0.26      0.00         0.04   \n",
       "2            2008.0     Action      0.82      0.51      0.01         0.14   \n",
       "3            2008.0     Action      0.43      0.51      0.02         0.19   \n",
       "4            2008.0     Action      0.29      0.28      0.01         0.07   \n",
       "5            2008.0     Action      0.17      0.00      0.00         0.26   \n",
       "6            2008.0     Action      0.11      0.01      0.00         0.01   \n",
       "7            2008.0     Action      0.01      0.01      0.00         0.00   \n",
       "8            2000.0     Action      1.13      0.38      0.02         0.03   \n",
       "9            2000.0     Action      0.51      0.35      0.00         0.06   \n",
       "10           2009.0  Adventure      0.00      0.00      0.02         0.00   \n",
       "11           2010.0  Adventure      0.00      0.00      0.02         0.00   \n",
       "12           2001.0     Racing      0.20      0.15      0.00         0.05   \n",
       "13           2002.0     Racing      0.09      0.02      0.00         0.00   \n",
       "14           2005.0     Racing      0.07      0.06      0.00         0.02   \n",
       "15           2005.0     Racing      0.05      0.01      0.00         0.00   \n",
       "16           2004.0       Misc      0.40      0.11      0.00         0.02   \n",
       "17           2013.0       Misc      0.09      0.01      0.00         0.01   \n",
       "18           2002.0     Sports      0.21      0.17      0.16         0.06   \n",
       "19           2002.0     Sports      0.14      0.04      0.00         0.01   \n",
       "\n",
       "    critic_score user_score rating  \n",
       "0            NaN        NaN    NaN  \n",
       "1            NaN        NaN    NaN  \n",
       "2           65.0        7.1      T  \n",
       "3           65.0        6.6      T  \n",
       "4           54.0        7.5      T  \n",
       "5            NaN        NaN    NaN  \n",
       "6           65.0        tbd      T  \n",
       "7           70.0        6.3      T  \n",
       "8            NaN        NaN    NaN  \n",
       "9           61.0        6.7      T  \n",
       "10           NaN        NaN    NaN  \n",
       "11           NaN        NaN    NaN  \n",
       "12          61.0        5.7      E  \n",
       "13          52.0        6.8      E  \n",
       "14          52.0        6.8      M  \n",
       "15          51.0        6.9      M  \n",
       "16           NaN        NaN    NaN  \n",
       "17           NaN        NaN    NaN  \n",
       "18          73.0        5.6      E  \n",
       "19          79.0          9      E  "
      ]
     },
     "execution_count": 12,
     "metadata": {},
     "output_type": "execute_result"
    }
   ],
   "source": [
    "# создам таблицу игр которые выходили на нескольких платформах\n",
    "a = df.pivot_table(index='name', values='platform', aggfunc='count')\n",
    "b = a.query('platform > 1')\n",
    "c = b.merge(df, on=['name'], how='left')\n",
    "c.head(20)"
   ]
  },
  {
   "cell_type": "code",
   "execution_count": 13,
   "id": "28b0d892",
   "metadata": {},
   "outputs": [
    {
     "data": {
      "text/plain": [
       "name                  0\n",
       "platform_x            0\n",
       "platform_y            0\n",
       "year_of_release     146\n",
       "genre                 0\n",
       "na_sales              0\n",
       "eu_sales              0\n",
       "jp_sales              0\n",
       "other_sales           0\n",
       "critic_score       2892\n",
       "user_score         1837\n",
       "rating             1851\n",
       "dtype: int64"
      ]
     },
     "execution_count": 13,
     "metadata": {},
     "output_type": "execute_result"
    }
   ],
   "source": [
    "# посчитаю пропуски в таблице\n",
    "c.isna().sum()"
   ]
  },
  {
   "cell_type": "markdown",
   "id": "08e9b728",
   "metadata": {},
   "source": [
    "Как видно из таблицы и по подсчитанным пропускам отсутствия значений в годе выхода не связано также и с играми которые выходили на несколько платформ. Так как восстановить пропущенные значения нет возможности заменю их на ноль"
   ]
  },
  {
   "cell_type": "code",
   "execution_count": 14,
   "id": "a28d509a",
   "metadata": {},
   "outputs": [],
   "source": [
    "# заменил пропущенные значения на ноль\n",
    "df['year_of_release'] = df['year_of_release'].fillna(0)"
   ]
  },
  {
   "cell_type": "code",
   "execution_count": 15,
   "id": "deffcbbd",
   "metadata": {},
   "outputs": [],
   "source": [
    "# изменил вид значений на целочислительный\n",
    "df['year_of_release'] = df['year_of_release'].astype('int')"
   ]
  },
  {
   "cell_type": "markdown",
   "id": "d2973985",
   "metadata": {},
   "source": [
    "Теперь займусь пропущенными значениями в столбце с оценкой пользователей"
   ]
  },
  {
   "cell_type": "code",
   "execution_count": 16,
   "id": "b4778564",
   "metadata": {},
   "outputs": [
    {
     "data": {
      "text/plain": [
       "array(['8', nan, '8.3', '8.5', '6.6', '8.4', '8.6', '7.7', '6.3', '7.4',\n",
       "       '8.2', '9', '7.9', '8.1', '8.7', '7.1', '3.4', '5.3', '4.8', '3.2',\n",
       "       '8.9', '6.4', '7.8', '7.5', '2.6', '7.2', '9.2', '7', '7.3', '4.3',\n",
       "       '7.6', '5.7', '5', '9.1', '6.5', 'tbd', '8.8', '6.9', '9.4', '6.8',\n",
       "       '6.1', '6.7', '5.4', '4', '4.9', '4.5', '9.3', '6.2', '4.2', '6',\n",
       "       '3.7', '4.1', '5.8', '5.6', '5.5', '4.4', '4.6', '5.9', '3.9',\n",
       "       '3.1', '2.9', '5.2', '3.3', '4.7', '5.1', '3.5', '2.5', '1.9', '3',\n",
       "       '2.7', '2.2', '2', '9.5', '2.1', '3.6', '2.8', '1.8', '3.8', '0',\n",
       "       '1.6', '9.6', '2.4', '1.7', '1.1', '0.3', '1.5', '0.7', '1.2',\n",
       "       '2.3', '0.5', '1.3', '0.2', '0.6', '1.4', '0.9', '1', '9.7'],\n",
       "      dtype=object)"
      ]
     },
     "execution_count": 16,
     "metadata": {},
     "output_type": "execute_result"
    }
   ],
   "source": [
    "# посмотрел уникальные значения в столбце\n",
    "df['user_score'].unique() "
   ]
  },
  {
   "cell_type": "markdown",
   "id": "a29c7336",
   "metadata": {},
   "source": [
    "Так как оценка пользователей параметр не восстанавливаемый заменю все отсутствующие значения на отрицательное число\n",
    " в том числе 'tbd' - что означает \"подлежит уточнению\" и изменю тип значений с object на float. Таким же образом заполню пропуски в оценке критиков"
   ]
  },
  {
   "cell_type": "code",
   "execution_count": 17,
   "id": "3accda0e",
   "metadata": {},
   "outputs": [],
   "source": [
    "# заполнил пропуски\n",
    "df['user_score'] = df['user_score'].fillna(-1)\n",
    "df['user_score'] = df['user_score'].replace('tbd', -1)"
   ]
  },
  {
   "cell_type": "code",
   "execution_count": 18,
   "id": "225ba4aa",
   "metadata": {},
   "outputs": [],
   "source": [
    "# изменил тип значений\n",
    "df['user_score'] = df['user_score'].astype('float32')"
   ]
  },
  {
   "cell_type": "code",
   "execution_count": 19,
   "id": "78a32eaf",
   "metadata": {},
   "outputs": [
    {
     "data": {
      "text/plain": [
       "array([76., nan, 82., 80., 89., 58., 87., 91., 61., 97., 95., 77., 88.,\n",
       "       83., 94., 93., 85., 86., 98., 96., 90., 84., 73., 74., 78., 92.,\n",
       "       71., 72., 68., 62., 49., 67., 81., 66., 56., 79., 70., 59., 64.,\n",
       "       75., 60., 63., 69., 50., 25., 42., 44., 55., 48., 57., 29., 47.,\n",
       "       65., 54., 20., 53., 37., 38., 33., 52., 30., 32., 43., 45., 51.,\n",
       "       40., 46., 39., 34., 35., 41., 36., 28., 31., 27., 26., 19., 23.,\n",
       "       24., 21., 17., 22., 13.])"
      ]
     },
     "execution_count": 19,
     "metadata": {},
     "output_type": "execute_result"
    }
   ],
   "source": [
    "# посмотрел уникальные значения в столбце с оценкой критиков\n",
    "df['critic_score'].unique()"
   ]
  },
  {
   "cell_type": "code",
   "execution_count": 20,
   "id": "11a1e307",
   "metadata": {},
   "outputs": [],
   "source": [
    "# заполнил пропуски\n",
    "df['critic_score'] = df['critic_score'].fillna(-1)"
   ]
  },
  {
   "cell_type": "code",
   "execution_count": 21,
   "id": "54cc165e",
   "metadata": {},
   "outputs": [],
   "source": [
    "# пропуски столбца 'rating' заполню значением 'unknown'\n",
    "df['rating'] = df['rating'].fillna('unknown')"
   ]
  },
  {
   "cell_type": "code",
   "execution_count": 22,
   "id": "3a022f32",
   "metadata": {
    "scrolled": true
   },
   "outputs": [
    {
     "name": "stdout",
     "output_type": "stream",
     "text": [
      "<class 'pandas.core.frame.DataFrame'>\n",
      "Int64Index: 16713 entries, 0 to 16714\n",
      "Data columns (total 11 columns):\n",
      " #   Column           Non-Null Count  Dtype  \n",
      "---  ------           --------------  -----  \n",
      " 0   name             16713 non-null  object \n",
      " 1   platform         16713 non-null  object \n",
      " 2   year_of_release  16713 non-null  int32  \n",
      " 3   genre            16713 non-null  object \n",
      " 4   na_sales         16713 non-null  float64\n",
      " 5   eu_sales         16713 non-null  float64\n",
      " 6   jp_sales         16713 non-null  float64\n",
      " 7   other_sales      16713 non-null  float64\n",
      " 8   critic_score     16713 non-null  float64\n",
      " 9   user_score       16713 non-null  float32\n",
      " 10  rating           16713 non-null  object \n",
      "dtypes: float32(1), float64(5), int32(1), object(4)\n",
      "memory usage: 1.4+ MB\n"
     ]
    }
   ],
   "source": [
    "# посмотрим информацию о столбцах после изменений\n",
    "df.info()"
   ]
  },
  {
   "cell_type": "code",
   "execution_count": 23,
   "id": "ca56fb3c",
   "metadata": {},
   "outputs": [],
   "source": [
    "# добавлю столбец с общими продажами по всем регионам\n",
    "df['total_sales'] = df[['na_sales','eu_sales','jp_sales', 'other_sales']].sum(axis = 1)"
   ]
  },
  {
   "cell_type": "code",
   "execution_count": 24,
   "id": "ad5e851d",
   "metadata": {},
   "outputs": [
    {
     "data": {
      "text/html": [
       "<div>\n",
       "<style scoped>\n",
       "    .dataframe tbody tr th:only-of-type {\n",
       "        vertical-align: middle;\n",
       "    }\n",
       "\n",
       "    .dataframe tbody tr th {\n",
       "        vertical-align: top;\n",
       "    }\n",
       "\n",
       "    .dataframe thead th {\n",
       "        text-align: right;\n",
       "    }\n",
       "</style>\n",
       "<table border=\"1\" class=\"dataframe\">\n",
       "  <thead>\n",
       "    <tr style=\"text-align: right;\">\n",
       "      <th></th>\n",
       "      <th>name</th>\n",
       "      <th>platform</th>\n",
       "      <th>year_of_release</th>\n",
       "      <th>genre</th>\n",
       "      <th>na_sales</th>\n",
       "      <th>eu_sales</th>\n",
       "      <th>jp_sales</th>\n",
       "      <th>other_sales</th>\n",
       "      <th>critic_score</th>\n",
       "      <th>user_score</th>\n",
       "      <th>rating</th>\n",
       "      <th>total_sales</th>\n",
       "    </tr>\n",
       "  </thead>\n",
       "  <tbody>\n",
       "    <tr>\n",
       "      <th>0</th>\n",
       "      <td>Wii Sports</td>\n",
       "      <td>Wii</td>\n",
       "      <td>2006</td>\n",
       "      <td>Sports</td>\n",
       "      <td>41.36</td>\n",
       "      <td>28.96</td>\n",
       "      <td>3.77</td>\n",
       "      <td>8.45</td>\n",
       "      <td>76.0</td>\n",
       "      <td>8.0</td>\n",
       "      <td>E</td>\n",
       "      <td>82.54</td>\n",
       "    </tr>\n",
       "    <tr>\n",
       "      <th>1</th>\n",
       "      <td>Super Mario Bros.</td>\n",
       "      <td>NES</td>\n",
       "      <td>1985</td>\n",
       "      <td>Platform</td>\n",
       "      <td>29.08</td>\n",
       "      <td>3.58</td>\n",
       "      <td>6.81</td>\n",
       "      <td>0.77</td>\n",
       "      <td>-1.0</td>\n",
       "      <td>-1.0</td>\n",
       "      <td>unknown</td>\n",
       "      <td>40.24</td>\n",
       "    </tr>\n",
       "    <tr>\n",
       "      <th>2</th>\n",
       "      <td>Mario Kart Wii</td>\n",
       "      <td>Wii</td>\n",
       "      <td>2008</td>\n",
       "      <td>Racing</td>\n",
       "      <td>15.68</td>\n",
       "      <td>12.76</td>\n",
       "      <td>3.79</td>\n",
       "      <td>3.29</td>\n",
       "      <td>82.0</td>\n",
       "      <td>8.3</td>\n",
       "      <td>E</td>\n",
       "      <td>35.52</td>\n",
       "    </tr>\n",
       "    <tr>\n",
       "      <th>3</th>\n",
       "      <td>Wii Sports Resort</td>\n",
       "      <td>Wii</td>\n",
       "      <td>2009</td>\n",
       "      <td>Sports</td>\n",
       "      <td>15.61</td>\n",
       "      <td>10.93</td>\n",
       "      <td>3.28</td>\n",
       "      <td>2.95</td>\n",
       "      <td>80.0</td>\n",
       "      <td>8.0</td>\n",
       "      <td>E</td>\n",
       "      <td>32.77</td>\n",
       "    </tr>\n",
       "    <tr>\n",
       "      <th>4</th>\n",
       "      <td>Pokemon Red/Pokemon Blue</td>\n",
       "      <td>GB</td>\n",
       "      <td>1996</td>\n",
       "      <td>Role-Playing</td>\n",
       "      <td>11.27</td>\n",
       "      <td>8.89</td>\n",
       "      <td>10.22</td>\n",
       "      <td>1.00</td>\n",
       "      <td>-1.0</td>\n",
       "      <td>-1.0</td>\n",
       "      <td>unknown</td>\n",
       "      <td>31.38</td>\n",
       "    </tr>\n",
       "  </tbody>\n",
       "</table>\n",
       "</div>"
      ],
      "text/plain": [
       "                       name platform  year_of_release         genre  na_sales  \\\n",
       "0                Wii Sports      Wii             2006        Sports     41.36   \n",
       "1         Super Mario Bros.      NES             1985      Platform     29.08   \n",
       "2            Mario Kart Wii      Wii             2008        Racing     15.68   \n",
       "3         Wii Sports Resort      Wii             2009        Sports     15.61   \n",
       "4  Pokemon Red/Pokemon Blue       GB             1996  Role-Playing     11.27   \n",
       "\n",
       "   eu_sales  jp_sales  other_sales  critic_score  user_score   rating  \\\n",
       "0     28.96      3.77         8.45          76.0         8.0        E   \n",
       "1      3.58      6.81         0.77          -1.0        -1.0  unknown   \n",
       "2     12.76      3.79         3.29          82.0         8.3        E   \n",
       "3     10.93      3.28         2.95          80.0         8.0        E   \n",
       "4      8.89     10.22         1.00          -1.0        -1.0  unknown   \n",
       "\n",
       "   total_sales  \n",
       "0        82.54  \n",
       "1        40.24  \n",
       "2        35.52  \n",
       "3        32.77  \n",
       "4        31.38  "
      ]
     },
     "execution_count": 24,
     "metadata": {},
     "output_type": "execute_result"
    }
   ],
   "source": [
    "# посмотрим как выглядит таблица после всех изменений\n",
    "df.head()"
   ]
  },
  {
   "cell_type": "code",
   "execution_count": 25,
   "id": "52a3bc3b",
   "metadata": {
    "scrolled": true
   },
   "outputs": [
    {
     "data": {
      "text/plain": [
       "0"
      ]
     },
     "execution_count": 25,
     "metadata": {},
     "output_type": "execute_result"
    }
   ],
   "source": [
    "# проверю таблицу на дубликаты\n",
    "df.duplicated().sum()"
   ]
  },
  {
   "cell_type": "markdown",
   "id": "966db8ff",
   "metadata": {},
   "source": [
    "#### Вывод:\n",
    "На этапе предобработки я изменил тип значений в двух столбцах для удобства дальнейшего анализа также удалил или заполнил пропуски в некоторых столбцах, пропуски заменил на нейтральное значение так как нет возможности восстановить значение. И добавил к таблице столбец с общими продажами по всем регионам"
   ]
  },
  {
   "cell_type": "markdown",
   "id": "208a6ce9",
   "metadata": {},
   "source": [
    "### Шаг 3. Проведем исследовательский анализ данных"
   ]
  },
  {
   "cell_type": "code",
   "execution_count": 26,
   "id": "fef47d71",
   "metadata": {},
   "outputs": [
    {
     "data": {
      "image/png": "[encoded data removed]",
      "text/plain": [
       "<Figure size 1080x1080 with 1 Axes>"
      ]
     },
     "metadata": {
      "needs_background": "light"
     },
     "output_type": "display_data"
    }
   ],
   "source": [
    "# Для начала посмотрим сколько игр выпускалось в разные годы.\n",
    "plt.figure(figsize=(15, 15))\n",
    "df.groupby('year_of_release')['name'].count().plot.bar(title = \"сколько игр выпускалось в разные годы\");"
   ]
  },
  {
   "cell_type": "markdown",
   "id": "3e4ca570",
   "metadata": {},
   "source": [
    "На диаграмме видно что после 2011 года количество выпускаемых игр резко пошло на спад, вероятнее всего данная тенденция связана с развитием в эти годы мобильных игр. Так как прогноз будет строиться на 2017 год возьмем данные за последние 5 лет"
   ]
  },
  {
   "cell_type": "markdown",
   "id": "8b0f23ea",
   "metadata": {},
   "source": [
    "Теперь посмотрим как менялись продажи по платформам, выберем платформы с наибольшими суммарными продажами и построим распределение по годам."
   ]
  },
  {
   "cell_type": "code",
   "execution_count": 27,
   "id": "3aef817d",
   "metadata": {},
   "outputs": [
    {
     "data": {
      "text/plain": [
       "platform\n",
       "PCFX       0.03\n",
       "GG         0.04\n",
       "3DO        0.10\n",
       "TG16       0.16\n",
       "WS         1.42\n",
       "NG         1.44\n",
       "SCD        1.86\n",
       "DC        15.95\n",
       "GEN       28.35\n",
       "SAT       33.59\n",
       "PSV       54.07\n",
       "WiiU      82.19\n",
       "2600      96.98\n",
       "XOne     159.32\n",
       "GC       198.93\n",
       "SNES     200.04\n",
       "N64      218.68\n",
       "NES      251.05\n",
       "GB       255.46\n",
       "XB       257.74\n",
       "3DS      259.00\n",
       "PC       259.52\n",
       "PSP      294.05\n",
       "PS4      314.14\n",
       "GBA      317.85\n",
       "PS       730.86\n",
       "DS       806.12\n",
       "Wii      907.51\n",
       "PS3      939.65\n",
       "X360     971.42\n",
       "PS2     1255.77\n",
       "Name: total_sales, dtype: float64"
      ]
     },
     "execution_count": 27,
     "metadata": {},
     "output_type": "execute_result"
    }
   ],
   "source": [
    "# выберем самые популярные платформы.\n",
    "df.groupby('platform')['total_sales'].sum().sort_values()"
   ]
  },
  {
   "cell_type": "code",
   "execution_count": 28,
   "id": "0485cf87",
   "metadata": {},
   "outputs": [],
   "source": [
    "# сделаю срез с платформами c наибольшими продажами.\n",
    "list_1 = ['PS2', 'X360', 'PS3', 'Wii', 'DS', 'PS']\n",
    "top_6 = df.query('platform in @list_1')"
   ]
  },
  {
   "cell_type": "code",
   "execution_count": 29,
   "id": "42a4ac38",
   "metadata": {},
   "outputs": [
    {
     "data": {
      "image/png": "[encoded data removed]",
      "text/plain": [
       "<Figure size 1080x1080 with 1 Axes>"
      ]
     },
     "metadata": {
      "needs_background": "light"
     },
     "output_type": "display_data"
    }
   ],
   "source": [
    "# посмотрим как изменялись продажи по этим платформам.\n",
    "top_6.pivot_table(index='year_of_release', columns='platform', values='total_sales', aggfunc='sum').plot(\n",
    "    xlim=(1990, 2016), style='-', title = \"как менялись продажи по платформам\", figsize=(15, 15));"
   ]
  },
  {
   "cell_type": "code",
   "execution_count": 30,
   "id": "4cf95d6f",
   "metadata": {},
   "outputs": [],
   "source": [
    "# создам таблицу с данными за последние 5 лет.\n",
    "our_list = [2012, 2013, 2014, 2015, 2016]\n",
    "df_after_2011 = df.query('year_of_release in @our_list')"
   ]
  },
  {
   "cell_type": "code",
   "execution_count": 31,
   "id": "4bad67dd",
   "metadata": {},
   "outputs": [
    {
     "data": {
      "text/plain": [
       "platform\n",
       "PSP      11.19\n",
       "DS       12.55\n",
       "Wii      35.37\n",
       "PSV      49.18\n",
       "PC       62.65\n",
       "WiiU     82.19\n",
       "XOne    159.32\n",
       "3DS     194.61\n",
       "X360    236.54\n",
       "PS3     288.79\n",
       "PS4     314.14\n",
       "Name: total_sales, dtype: float64"
      ]
     },
     "execution_count": 31,
     "metadata": {},
     "output_type": "execute_result"
    }
   ],
   "source": [
    "# выберем самые популярные платформы за этот период.\n",
    "df_after_2011.groupby('platform')['total_sales'].sum().sort_values()"
   ]
  },
  {
   "cell_type": "code",
   "execution_count": 32,
   "id": "6e05fbb3",
   "metadata": {},
   "outputs": [],
   "source": [
    "# сделаю срез с этими платформами.\n",
    "our_list_2 = ['PS4', 'PS3', 'X360', '3DS', 'XOne']\n",
    "top_10 = df_after_2011.query('platform in @our_list_2')"
   ]
  },
  {
   "cell_type": "code",
   "execution_count": 33,
   "id": "a268013c",
   "metadata": {},
   "outputs": [
    {
     "data": {
      "image/png": "[encoded data removed]",
      "text/plain": [
       "<Figure size 1080x1080 with 1 Axes>"
      ]
     },
     "metadata": {
      "needs_background": "light"
     },
     "output_type": "display_data"
    }
   ],
   "source": [
    "# посмотрим как изменялись продажи по этим платформам за пять лет.\n",
    "top_10.pivot_table(index='year_of_release', columns='platform', values='total_sales', aggfunc='sum').plot(\n",
    "    xlim=(2012, 2016), style='-', title = \"как менялись продажи по платформам\", figsize=(15, 15));"
   ]
  },
  {
   "cell_type": "markdown",
   "id": "858bd7ed",
   "metadata": {},
   "source": [
    "На этом графике видно что в последние годы большего всего игр продавалось для 'PS4' и 'XOne'. Причем 'PS4' сильно лидирует по сравнению с остальными платформами."
   ]
  },
  {
   "cell_type": "code",
   "execution_count": 34,
   "id": "1db4d113",
   "metadata": {},
   "outputs": [
    {
     "data": {
      "text/plain": [
       "<Figure size 1080x1080 with 0 Axes>"
      ]
     },
     "metadata": {},
     "output_type": "display_data"
    },
    {
     "data": {
      "image/png": "[encoded data removed]",
      "text/plain": [
       "<Figure size 1080x1080 with 1 Axes>"
      ]
     },
     "metadata": {
      "needs_background": "light"
     },
     "output_type": "display_data"
    }
   ],
   "source": [
    "# посмотрим общие продажи по этим платформам за пять лет.\n",
    "plt.figure(figsize=(15, 15));\n",
    "top_10.boxplot(column='total_sales', by='platform', figsize=(15, 15));\n",
    "plt.ylabel(\"продажи игр в млн копий\")\n",
    "plt.show()"
   ]
  },
  {
   "cell_type": "markdown",
   "id": "d3561542",
   "metadata": {},
   "source": [
    "На диаграмме ящик с усами видно что самая продаваемая игра была на платформе PS3, но в целом на каждой платформе имеются игры чьи продажи на много превышали медианное значение из-за чего наблюдается сильное смещение данных "
   ]
  },
  {
   "cell_type": "markdown",
   "id": "e2bb2162",
   "metadata": {},
   "source": [
    "Посмотрим, как влияют на продажи внутри одной популярной платформы отзывы пользователей и критиков. Для анализа возьмем \"PS4\""
   ]
  },
  {
   "cell_type": "code",
   "execution_count": 35,
   "id": "f23b73d1",
   "metadata": {},
   "outputs": [],
   "source": [
    "# сделаю срез по платформе\n",
    "ps_4_data = df_after_2011.query('platform == \"PS4\" and user_score != -1 and critic_score != -1')"
   ]
  },
  {
   "cell_type": "code",
   "execution_count": 36,
   "id": "36ec772a",
   "metadata": {},
   "outputs": [
    {
     "data": {
      "image/png": "[encoded data removed]",
      "text/plain": [
       "<Figure size 1080x1080 with 1 Axes>"
      ]
     },
     "metadata": {
      "needs_background": "light"
     },
     "output_type": "display_data"
    }
   ],
   "source": [
    "# Построю диаграмму рассеяния, влияние оценок пользователей на продажи\n",
    "ps_4_data.plot(x='user_score', y='total_sales', kind='scatter', figsize=(15, 15), style='o', grid=True);"
   ]
  },
  {
   "cell_type": "code",
   "execution_count": 37,
   "id": "ae44a02f",
   "metadata": {},
   "outputs": [
    {
     "data": {
      "text/plain": [
       "-0.033624974472071655"
      ]
     },
     "execution_count": 37,
     "metadata": {},
     "output_type": "execute_result"
    }
   ],
   "source": [
    "# посчитаю корреляцию между отзывами и продажами\n",
    "ps_4_data['total_sales'].corr(ps_4_data['user_score'])"
   ]
  },
  {
   "cell_type": "markdown",
   "id": "8fc8b40f",
   "metadata": {},
   "source": [
    "По полученным данным можно сказать что отзывы пользователей никак не коррелируют с продажами, тем не менее на диаграмме видно что \n",
    "больше всего проданных игр имеют оценки выше 5 а осутствие корреляции можно обьяснить несколькими играми с большими продажами имеющих низкий рейтинг"
   ]
  },
  {
   "cell_type": "code",
   "execution_count": 38,
   "id": "7c0e1a94",
   "metadata": {},
   "outputs": [
    {
     "data": {
      "image/png": "[encoded data removed]",
      "text/plain": [
       "<Figure size 1080x1080 with 1 Axes>"
      ]
     },
     "metadata": {
      "needs_background": "light"
     },
     "output_type": "display_data"
    }
   ],
   "source": [
    "# Построю диаграмму рассеяния, влияние оценок критиков на продажи\n",
    "ps_4_data.plot(x='critic_score', y='total_sales', kind='scatter', figsize=(15, 15), style='o', grid=True);"
   ]
  },
  {
   "cell_type": "code",
   "execution_count": 39,
   "id": "f5f2b6bf",
   "metadata": {},
   "outputs": [
    {
     "data": {
      "text/plain": [
       "0.4058948014583663"
      ]
     },
     "execution_count": 39,
     "metadata": {},
     "output_type": "execute_result"
    }
   ],
   "source": [
    "# посчитаю корреляцию между отзывами и продажами\n",
    "ps_4_data['critic_score'].corr(ps_4_data['total_sales'])"
   ]
  },
  {
   "cell_type": "markdown",
   "id": "3b4023a2",
   "metadata": {},
   "source": [
    "Здесь можно сказать что оценки критиков больше влияют на продажи чем оценки пользователей, но корреляция не столь существенна. По диаграмме видно что самые популярные игры имеют оценки выше 70"
   ]
  },
  {
   "cell_type": "markdown",
   "id": "9eaf56fb",
   "metadata": {},
   "source": [
    "Соотнесем полученные результаты с другими платформами"
   ]
  },
  {
   "cell_type": "code",
   "execution_count": 40,
   "id": "03c13760",
   "metadata": {},
   "outputs": [],
   "source": [
    "# сделал срез\n",
    "ps_3_data = df_after_2011.query('platform == \"PS3\" and user_score != -1 and critic_score != -1')"
   ]
  },
  {
   "cell_type": "code",
   "execution_count": 41,
   "id": "71c8fe67",
   "metadata": {},
   "outputs": [
    {
     "data": {
      "image/png": "[encoded data removed]",
      "text/plain": [
       "<Figure size 1080x1080 with 1 Axes>"
      ]
     },
     "metadata": {
      "needs_background": "light"
     },
     "output_type": "display_data"
    }
   ],
   "source": [
    "# Построю диаграмму рассеяния, влияние оценок пользователей на продажи\n",
    "ps_3_data.plot(x='user_score', y='total_sales', kind='scatter', figsize=(15, 15), style='o', grid=True);"
   ]
  },
  {
   "cell_type": "code",
   "execution_count": 42,
   "id": "6e2093df",
   "metadata": {},
   "outputs": [
    {
     "data": {
      "text/plain": [
       "0.0032274058814974788"
      ]
     },
     "execution_count": 42,
     "metadata": {},
     "output_type": "execute_result"
    }
   ],
   "source": [
    "# посчитаю корреляцию между отзывами и продажами\n",
    "ps_3_data['total_sales'].corr(ps_3_data['user_score'])"
   ]
  },
  {
   "cell_type": "markdown",
   "id": "2da61430",
   "metadata": {},
   "source": [
    "Похожие результаты выходят по ps3, корреляции между отзывами пользователей и продажами нет"
   ]
  },
  {
   "cell_type": "code",
   "execution_count": 43,
   "id": "8b41425c",
   "metadata": {},
   "outputs": [
    {
     "data": {
      "image/png": "[encoded data removed]",
      "text/plain": [
       "<Figure size 1080x1080 with 1 Axes>"
      ]
     },
     "metadata": {
      "needs_background": "light"
     },
     "output_type": "display_data"
    }
   ],
   "source": [
    "# Построю диаграмму рассеяния, влияние оценок критиков на продажи\n",
    "ps_3_data.plot(x='critic_score', y='total_sales', kind='scatter', figsize=(15, 15), style='o', grid=True);"
   ]
  },
  {
   "cell_type": "code",
   "execution_count": 44,
   "id": "f566e780",
   "metadata": {},
   "outputs": [
    {
     "data": {
      "text/plain": [
       "0.3310566175801406"
      ]
     },
     "execution_count": 44,
     "metadata": {},
     "output_type": "execute_result"
    }
   ],
   "source": [
    "# посчитаю корреляцию между отзывами и продажами\n",
    "ps_3_data['critic_score'].corr(ps_3_data['total_sales'])"
   ]
  },
  {
   "cell_type": "markdown",
   "id": "f89a58cb",
   "metadata": {},
   "source": [
    "А корреляция оценок критиков и продажами на ps3 также довольно не большая. Посмотрим так же корреляцию на X360"
   ]
  },
  {
   "cell_type": "code",
   "execution_count": 45,
   "id": "3f82bbd4",
   "metadata": {},
   "outputs": [],
   "source": [
    "# сделал срез\n",
    "X360_data = df_after_2011.query('platform == \"X360\" and user_score != -1 and critic_score != -1')"
   ]
  },
  {
   "cell_type": "code",
   "execution_count": 46,
   "id": "83453517",
   "metadata": {},
   "outputs": [
    {
     "data": {
      "image/png": "[encoded data removed]",
      "text/plain": [
       "<Figure size 1080x1080 with 1 Axes>"
      ]
     },
     "metadata": {
      "needs_background": "light"
     },
     "output_type": "display_data"
    }
   ],
   "source": [
    "# Построю диаграмму рассеяния, влияние оценок пользователей на продажи\n",
    "X360_data.plot(x='user_score', y='total_sales', kind='scatter', figsize=(15, 15), style='o', grid=True);"
   ]
  },
  {
   "cell_type": "code",
   "execution_count": 47,
   "id": "3114fd55",
   "metadata": {},
   "outputs": [
    {
     "data": {
      "text/plain": [
       "-0.0020140269517310537"
      ]
     },
     "execution_count": 47,
     "metadata": {},
     "output_type": "execute_result"
    }
   ],
   "source": [
    "# посчитаю корреляцию между отзывами и продажами\n",
    "X360_data['total_sales'].corr(X360_data['user_score'])"
   ]
  },
  {
   "cell_type": "code",
   "execution_count": 48,
   "id": "45749606",
   "metadata": {},
   "outputs": [
    {
     "data": {
      "image/png": "[encoded data removed]",
      "text/plain": [
       "<Figure size 1080x1080 with 1 Axes>"
      ]
     },
     "metadata": {
      "needs_background": "light"
     },
     "output_type": "display_data"
    }
   ],
   "source": [
    "# Построю диаграмму рассеяния, влияние оценок критиков на продажи\n",
    "X360_data.plot(x='critic_score', y='total_sales', kind='scatter', figsize=(15, 15), style='o', grid=True);"
   ]
  },
  {
   "cell_type": "code",
   "execution_count": 49,
   "id": "600777a3",
   "metadata": {},
   "outputs": [
    {
     "data": {
      "text/plain": [
       "0.36057348885073387"
      ]
     },
     "execution_count": 49,
     "metadata": {},
     "output_type": "execute_result"
    }
   ],
   "source": [
    "# посчитаю корреляцию между отзывами и продажами\n",
    "X360_data['critic_score'].corr(X360_data['total_sales'])"
   ]
  },
  {
   "cell_type": "markdown",
   "id": "bc18ba83",
   "metadata": {},
   "source": [
    "Итого на всех платформах из топ 3 схожая картина, взаимосвязи между оценкой пользователей и продажами игр на платформах не прослеживается, а взаимосвязь продаж с оценкой критиков крайне мала."
   ]
  },
  {
   "cell_type": "markdown",
   "id": "d2136797",
   "metadata": {},
   "source": [
    "Теперь посмотрим на общее распределение игр по жанрам"
   ]
  },
  {
   "cell_type": "code",
   "execution_count": 50,
   "id": "e1594825",
   "metadata": {},
   "outputs": [
    {
     "data": {
      "image/png": "[encoded data removed]",
      "text/plain": [
       "<Figure size 1080x1080 with 1 Axes>"
      ]
     },
     "metadata": {
      "needs_background": "light"
     },
     "output_type": "display_data"
    }
   ],
   "source": [
    "# построю столбчатую диаграмму со средними продажами по жанрам\n",
    "plt.figure(figsize=(15, 15))\n",
    "df_after_2011.groupby('genre')['total_sales'].mean().sort_values().plot.bar(title = \"общее распределение игр по жанрам\");"
   ]
  },
  {
   "cell_type": "markdown",
   "id": "1b245873",
   "metadata": {},
   "source": [
    "Здесь виден большой разрыв по продажам между играми жанра шутер и остальными, можно сказать что игроки предпочитают игры где действие развивается довольно динамично, еще выделяются жанры с самыми низкими средними продажами это стратегии, пазлы и приключенческий жанр."
   ]
  },
  {
   "cell_type": "markdown",
   "id": "b25f1a6e",
   "metadata": {},
   "source": [
    "#### Вывод:\n",
    "На этом шаге я посмотрел сколько игр выпускалось в разные годы и выяснил что после 2011 неблюдается резкий спад в выпуске игр, выявил наиболее популярные платформы за последние 5 лет, посмотрел как влияют оценки пользователей и критиков на продажи а также выявил что самыми популярными жанрами игр является шутеры"
   ]
  },
  {
   "cell_type": "markdown",
   "id": "8d7710d3",
   "metadata": {},
   "source": [
    "### Шаг 4. Составим портрет пользователя каждого региона"
   ]
  },
  {
   "cell_type": "markdown",
   "id": "ab4ee4d5",
   "metadata": {},
   "source": [
    "Определим для пользователя каждого региона (NA, EU, JP и остальной мир):\n",
    "* Самые популярные платформы (топ-5)\n",
    "* Самые популярные жанры (топ-5). Поясните разницу.\n",
    "* Влияет ли рейтинг ESRB на продажи в отдельном регионе?"
   ]
  },
  {
   "cell_type": "markdown",
   "id": "142ceb68",
   "metadata": {},
   "source": [
    "Первым делом найду топ 5 платформ для каждого региона, а остальные заменю на 'другие'"
   ]
  },
  {
   "cell_type": "code",
   "execution_count": 51,
   "id": "105b1144",
   "metadata": {},
   "outputs": [
    {
     "data": {
      "text/plain": [
       "platform\n",
       "PSP       0.13\n",
       "DS        4.59\n",
       "PSV      10.98\n",
       "Wii      17.45\n",
       "PC       19.12\n",
       "WiiU     38.10\n",
       "3DS      55.31\n",
       "XOne     93.12\n",
       "PS3     103.38\n",
       "PS4     108.74\n",
       "X360    140.05\n",
       "Name: na_sales, dtype: float64"
      ]
     },
     "execution_count": 51,
     "metadata": {},
     "output_type": "execute_result"
    }
   ],
   "source": [
    "# сгруппирую продажи по платформам в северной америке\n",
    "df_after_2011.groupby('platform')['na_sales'].sum().sort_values()"
   ]
  },
  {
   "cell_type": "code",
   "execution_count": 52,
   "id": "4c708162",
   "metadata": {},
   "outputs": [],
   "source": [
    "# создам новый столбец в таблице где платформы не из топ 5 заменю на 'другие'\n",
    "warnings.filterwarnings(\"ignore\")\n",
    "na_top = ['PS4', 'PS3', 'X360', 'XOne', '3DS']\n",
    "df_after_2011['na_top'] = df_after_2011['platform']\n",
    "df_after_2011['na_top'] = df_after_2011['na_top'].where(df_after_2011['na_top'].isin(na_top), 'другие')"
   ]
  },
  {
   "cell_type": "code",
   "execution_count": 53,
   "id": "8fbcfafe",
   "metadata": {},
   "outputs": [
    {
     "data": {
      "text/plain": [
       "array(['PS3', 'X360', 'PS4', '3DS', 'другие', 'XOne'], dtype=object)"
      ]
     },
     "execution_count": 53,
     "metadata": {},
     "output_type": "execute_result"
    }
   ],
   "source": [
    "# проверю значения столбца\n",
    "df_after_2011['na_top'].unique()"
   ]
  },
  {
   "cell_type": "code",
   "execution_count": 54,
   "id": "c407aefc",
   "metadata": {},
   "outputs": [
    {
     "data": {
      "text/plain": [
       "platform\n",
       "PSP       0.42\n",
       "DS        3.53\n",
       "PSV      11.36\n",
       "Wii      11.92\n",
       "WiiU     25.13\n",
       "PC       37.76\n",
       "3DS      42.64\n",
       "XOne     51.59\n",
       "X360     74.52\n",
       "PS3     106.86\n",
       "PS4     141.09\n",
       "Name: eu_sales, dtype: float64"
      ]
     },
     "execution_count": 54,
     "metadata": {},
     "output_type": "execute_result"
    }
   ],
   "source": [
    "# сгруппирую продажи по платформам в европе\n",
    "df_after_2011.groupby('platform')['eu_sales'].sum().sort_values()"
   ]
  },
  {
   "cell_type": "code",
   "execution_count": 55,
   "id": "9aa5e80d",
   "metadata": {},
   "outputs": [],
   "source": [
    "# создам новый столбец в таблице где платформы не из топ 5 заменю на 'другие'\n",
    "warnings.filterwarnings(\"ignore\")\n",
    "top_eu = ['PS4', 'PS3', 'X360', 'XOne', '3DS']\n",
    "df_after_2011['eu_top'] = df_after_2011['platform']\n",
    "df_after_2011['eu_top'] = df_after_2011['eu_top'].where(df_after_2011['eu_top'].isin(top_eu), 'другие')"
   ]
  },
  {
   "cell_type": "code",
   "execution_count": 56,
   "id": "93ab2301",
   "metadata": {},
   "outputs": [
    {
     "data": {
      "text/plain": [
       "array(['PS3', 'X360', 'PS4', '3DS', 'другие', 'XOne'], dtype=object)"
      ]
     },
     "execution_count": 56,
     "metadata": {},
     "output_type": "execute_result"
    }
   ],
   "source": [
    "# проверю значения столбца\n",
    "df_after_2011['eu_top'].unique()"
   ]
  },
  {
   "cell_type": "code",
   "execution_count": 57,
   "id": "a22187a0",
   "metadata": {},
   "outputs": [
    {
     "data": {
      "text/plain": [
       "platform\n",
       "PC       0.00\n",
       "XOne     0.34\n",
       "X360     1.57\n",
       "Wii      3.39\n",
       "DS       3.72\n",
       "PSP     10.47\n",
       "WiiU    13.01\n",
       "PS4     15.96\n",
       "PSV     21.04\n",
       "PS3     35.29\n",
       "3DS     87.79\n",
       "Name: jp_sales, dtype: float64"
      ]
     },
     "execution_count": 57,
     "metadata": {},
     "output_type": "execute_result"
    }
   ],
   "source": [
    "# сгруппирую продажи по платформам в японии\n",
    "df_after_2011.groupby('platform')['jp_sales'].sum().sort_values()"
   ]
  },
  {
   "cell_type": "code",
   "execution_count": 58,
   "id": "83f11be6",
   "metadata": {},
   "outputs": [],
   "source": [
    "# создам новый столбец в таблице где платформы не из топ 5 заменю на 'другие'\n",
    "warnings.filterwarnings(\"ignore\")\n",
    "top_jp = ['PS4', 'PS3', 'PSV', 'WiiU', '3DS']\n",
    "df_after_2011['jp_top'] = df_after_2011['platform']\n",
    "df_after_2011['jp_top'] = df_after_2011['jp_top'].where(df_after_2011['jp_top'].isin(top_jp), 'другие')"
   ]
  },
  {
   "cell_type": "code",
   "execution_count": 59,
   "id": "241c58d7",
   "metadata": {},
   "outputs": [
    {
     "data": {
      "text/plain": [
       "array(['PS3', 'другие', 'PS4', '3DS', 'WiiU', 'PSV'], dtype=object)"
      ]
     },
     "execution_count": 59,
     "metadata": {},
     "output_type": "execute_result"
    }
   ],
   "source": [
    "# проверю значения столбца\n",
    "df_after_2011['jp_top'].unique()"
   ]
  },
  {
   "cell_type": "code",
   "execution_count": 60,
   "id": "e1ab1614",
   "metadata": {},
   "outputs": [
    {
     "data": {
      "text/plain": [
       "platform\n",
       "PSP      0.17\n",
       "DS       0.71\n",
       "Wii      2.61\n",
       "PC       5.77\n",
       "PSV      5.80\n",
       "WiiU     5.95\n",
       "3DS      8.87\n",
       "XOne    14.27\n",
       "X360    20.40\n",
       "PS3     43.26\n",
       "PS4     48.35\n",
       "Name: other_sales, dtype: float64"
      ]
     },
     "execution_count": 60,
     "metadata": {},
     "output_type": "execute_result"
    }
   ],
   "source": [
    "# сгруппирую продажи по платформам в остальном мире\n",
    "df_after_2011.groupby('platform')['other_sales'].sum().sort_values()"
   ]
  },
  {
   "cell_type": "code",
   "execution_count": 61,
   "id": "5123a904",
   "metadata": {},
   "outputs": [],
   "source": [
    "# создам новый столбец в таблице где платформы не из топ 5 заменю на 'другие'\n",
    "warnings.filterwarnings(\"ignore\")\n",
    "top_other = ['PS4', 'PS3', 'X360', 'XOne', '3DS']\n",
    "df_after_2011['other_top'] = df_after_2011['platform']\n",
    "df_after_2011['other_top'] = df_after_2011['other_top'].where(df_after_2011['other_top'].isin(top_other), 'другие')"
   ]
  },
  {
   "cell_type": "code",
   "execution_count": 62,
   "id": "d75bf7b7",
   "metadata": {},
   "outputs": [
    {
     "data": {
      "text/plain": [
       "array(['PS3', 'X360', 'PS4', '3DS', 'другие', 'XOne'], dtype=object)"
      ]
     },
     "execution_count": 62,
     "metadata": {},
     "output_type": "execute_result"
    }
   ],
   "source": [
    "# проверю значения столбца\n",
    "df_after_2011['other_top'].unique()"
   ]
  },
  {
   "cell_type": "code",
   "execution_count": 63,
   "id": "bfd067b8",
   "metadata": {},
   "outputs": [
    {
     "data": {
      "text/html": [
       "<div>\n",
       "<style scoped>\n",
       "    .dataframe tbody tr th:only-of-type {\n",
       "        vertical-align: middle;\n",
       "    }\n",
       "\n",
       "    .dataframe tbody tr th {\n",
       "        vertical-align: top;\n",
       "    }\n",
       "\n",
       "    .dataframe thead th {\n",
       "        text-align: right;\n",
       "    }\n",
       "</style>\n",
       "<table border=\"1\" class=\"dataframe\">\n",
       "  <thead>\n",
       "    <tr style=\"text-align: right;\">\n",
       "      <th></th>\n",
       "      <th>name</th>\n",
       "      <th>platform</th>\n",
       "      <th>year_of_release</th>\n",
       "      <th>genre</th>\n",
       "      <th>na_sales</th>\n",
       "      <th>eu_sales</th>\n",
       "      <th>jp_sales</th>\n",
       "      <th>other_sales</th>\n",
       "      <th>critic_score</th>\n",
       "      <th>user_score</th>\n",
       "      <th>rating</th>\n",
       "      <th>total_sales</th>\n",
       "      <th>na_top</th>\n",
       "      <th>eu_top</th>\n",
       "      <th>jp_top</th>\n",
       "      <th>other_top</th>\n",
       "    </tr>\n",
       "  </thead>\n",
       "  <tbody>\n",
       "    <tr>\n",
       "      <th>16</th>\n",
       "      <td>Grand Theft Auto V</td>\n",
       "      <td>PS3</td>\n",
       "      <td>2013</td>\n",
       "      <td>Action</td>\n",
       "      <td>7.02</td>\n",
       "      <td>9.09</td>\n",
       "      <td>0.98</td>\n",
       "      <td>3.96</td>\n",
       "      <td>97.0</td>\n",
       "      <td>8.2</td>\n",
       "      <td>M</td>\n",
       "      <td>21.05</td>\n",
       "      <td>PS3</td>\n",
       "      <td>PS3</td>\n",
       "      <td>PS3</td>\n",
       "      <td>PS3</td>\n",
       "    </tr>\n",
       "    <tr>\n",
       "      <th>23</th>\n",
       "      <td>Grand Theft Auto V</td>\n",
       "      <td>X360</td>\n",
       "      <td>2013</td>\n",
       "      <td>Action</td>\n",
       "      <td>9.66</td>\n",
       "      <td>5.14</td>\n",
       "      <td>0.06</td>\n",
       "      <td>1.41</td>\n",
       "      <td>97.0</td>\n",
       "      <td>8.1</td>\n",
       "      <td>M</td>\n",
       "      <td>16.27</td>\n",
       "      <td>X360</td>\n",
       "      <td>X360</td>\n",
       "      <td>другие</td>\n",
       "      <td>X360</td>\n",
       "    </tr>\n",
       "    <tr>\n",
       "      <th>31</th>\n",
       "      <td>Call of Duty: Black Ops 3</td>\n",
       "      <td>PS4</td>\n",
       "      <td>2015</td>\n",
       "      <td>Shooter</td>\n",
       "      <td>6.03</td>\n",
       "      <td>5.86</td>\n",
       "      <td>0.36</td>\n",
       "      <td>2.38</td>\n",
       "      <td>-1.0</td>\n",
       "      <td>-1.0</td>\n",
       "      <td>unknown</td>\n",
       "      <td>14.63</td>\n",
       "      <td>PS4</td>\n",
       "      <td>PS4</td>\n",
       "      <td>PS4</td>\n",
       "      <td>PS4</td>\n",
       "    </tr>\n",
       "    <tr>\n",
       "      <th>33</th>\n",
       "      <td>Pokemon X/Pokemon Y</td>\n",
       "      <td>3DS</td>\n",
       "      <td>2013</td>\n",
       "      <td>Role-Playing</td>\n",
       "      <td>5.28</td>\n",
       "      <td>4.19</td>\n",
       "      <td>4.35</td>\n",
       "      <td>0.78</td>\n",
       "      <td>-1.0</td>\n",
       "      <td>-1.0</td>\n",
       "      <td>unknown</td>\n",
       "      <td>14.60</td>\n",
       "      <td>3DS</td>\n",
       "      <td>3DS</td>\n",
       "      <td>3DS</td>\n",
       "      <td>3DS</td>\n",
       "    </tr>\n",
       "    <tr>\n",
       "      <th>34</th>\n",
       "      <td>Call of Duty: Black Ops II</td>\n",
       "      <td>PS3</td>\n",
       "      <td>2012</td>\n",
       "      <td>Shooter</td>\n",
       "      <td>4.99</td>\n",
       "      <td>5.73</td>\n",
       "      <td>0.65</td>\n",
       "      <td>2.42</td>\n",
       "      <td>83.0</td>\n",
       "      <td>5.3</td>\n",
       "      <td>M</td>\n",
       "      <td>13.79</td>\n",
       "      <td>PS3</td>\n",
       "      <td>PS3</td>\n",
       "      <td>PS3</td>\n",
       "      <td>PS3</td>\n",
       "    </tr>\n",
       "  </tbody>\n",
       "</table>\n",
       "</div>"
      ],
      "text/plain": [
       "                          name platform  year_of_release         genre  \\\n",
       "16          Grand Theft Auto V      PS3             2013        Action   \n",
       "23          Grand Theft Auto V     X360             2013        Action   \n",
       "31   Call of Duty: Black Ops 3      PS4             2015       Shooter   \n",
       "33         Pokemon X/Pokemon Y      3DS             2013  Role-Playing   \n",
       "34  Call of Duty: Black Ops II      PS3             2012       Shooter   \n",
       "\n",
       "    na_sales  eu_sales  jp_sales  other_sales  critic_score  user_score  \\\n",
       "16      7.02      9.09      0.98         3.96          97.0         8.2   \n",
       "23      9.66      5.14      0.06         1.41          97.0         8.1   \n",
       "31      6.03      5.86      0.36         2.38          -1.0        -1.0   \n",
       "33      5.28      4.19      4.35         0.78          -1.0        -1.0   \n",
       "34      4.99      5.73      0.65         2.42          83.0         5.3   \n",
       "\n",
       "     rating  total_sales na_top eu_top  jp_top other_top  \n",
       "16        M        21.05    PS3    PS3     PS3       PS3  \n",
       "23        M        16.27   X360   X360  другие      X360  \n",
       "31  unknown        14.63    PS4    PS4     PS4       PS4  \n",
       "33  unknown        14.60    3DS    3DS     3DS       3DS  \n",
       "34        M        13.79    PS3    PS3     PS3       PS3  "
      ]
     },
     "execution_count": 63,
     "metadata": {},
     "output_type": "execute_result"
    }
   ],
   "source": [
    "# посмотрим новые столбцы в таблице\n",
    "df_after_2011.head()"
   ]
  },
  {
   "cell_type": "code",
   "execution_count": 64,
   "id": "0ada31ea",
   "metadata": {},
   "outputs": [],
   "source": [
    "# Создам сводные таблицы сумма продаж по платформам\n",
    "na = df_after_2011.pivot_table(index='na_top', values='na_sales', aggfunc='sum')\n",
    "na.reset_index(inplace = True)"
   ]
  },
  {
   "cell_type": "code",
   "execution_count": 65,
   "id": "60208419",
   "metadata": {},
   "outputs": [],
   "source": [
    "eu = df_after_2011.pivot_table(index='eu_top', values='eu_sales', aggfunc='sum')\n",
    "eu.reset_index(inplace = True)"
   ]
  },
  {
   "cell_type": "code",
   "execution_count": 66,
   "id": "780528be",
   "metadata": {},
   "outputs": [],
   "source": [
    "jp = df_after_2011.pivot_table(index='jp_top', values='jp_sales', aggfunc='sum')\n",
    "jp.reset_index(inplace = True)"
   ]
  },
  {
   "cell_type": "code",
   "execution_count": 67,
   "id": "a8416ad1",
   "metadata": {},
   "outputs": [],
   "source": [
    "other = df_after_2011.pivot_table(index='other_top', values='other_sales', aggfunc='sum')\n",
    "other.reset_index(inplace = True)"
   ]
  },
  {
   "cell_type": "code",
   "execution_count": 68,
   "id": "8c6d58c8",
   "metadata": {},
   "outputs": [
    {
     "data": {
      "image/png": "[encoded data removed]",
      "text/plain": [
       "<Figure size 1296x1296 with 4 Axes>"
      ]
     },
     "metadata": {},
     "output_type": "display_data"
    }
   ],
   "source": [
    "# Посмотрим распределение по платформам на круговой диаграмме\n",
    "fig, (ax1, ax2, ax3, ax4) = plt.subplots(1, 4, figsize=(18, 18))\n",
    "ax1.pie(na['na_sales'], autopct='%.0f%%', labels=na['na_top'],\n",
    "      frame=False)\n",
    "ax2.pie(eu['eu_sales'], autopct='%.0f%%', labels=eu['eu_top'],\n",
    "      frame=False)\n",
    "ax3.pie(jp['jp_sales'], autopct='%.0f%%', labels=jp['jp_top'],\n",
    "      frame=False)\n",
    "ax4.pie(other['other_sales'], autopct='%.0f%%', labels=other['other_top'],\n",
    "      frame=False)\n",
    "ax1.set_title(\"NA\")\n",
    "ax2.set_title(\"EU\")\n",
    "ax3.set_title(\"JP\")\n",
    "ax4.set_title(\"other\")\n",
    "plt.show()"
   ]
  },
  {
   "cell_type": "markdown",
   "id": "847fcbc1",
   "metadata": {},
   "source": [
    "На диаграммах видно что в Европе и в остальном мире самыми популярными платформами являются 'PS4' и 'PS3', в Америке же это X360 и различия в долях распределены боллее равномерно среди остальных платформ чем в остальных регионах. Самая популярная платформа в Японии 3DS занимает почти 50% рынка но нигде в остальном мире даже не входит топ 3 по популярности."
   ]
  },
  {
   "cell_type": "markdown",
   "id": "6422a2c7",
   "metadata": {},
   "source": [
    "Теперь посмотрим топ 5 жанров по регионам, сперва отфильтруем данные"
   ]
  },
  {
   "cell_type": "code",
   "execution_count": 69,
   "id": "ab19dd5e",
   "metadata": {},
   "outputs": [
    {
     "data": {
      "text/plain": [
       "genre\n",
       "Puzzle            1.13\n",
       "Strategy          4.23\n",
       "Simulation        7.97\n",
       "Adventure         8.92\n",
       "Racing           17.22\n",
       "Fighting         19.79\n",
       "Platform         25.38\n",
       "Misc             38.19\n",
       "Role-Playing     64.00\n",
       "Sports           81.53\n",
       "Shooter         144.77\n",
       "Action          177.84\n",
       "Name: na_sales, dtype: float64"
      ]
     },
     "execution_count": 69,
     "metadata": {},
     "output_type": "execute_result"
    }
   ],
   "source": [
    "# сгруппирую продажи по жанрам в северной америке\n",
    "df_after_2011.groupby('genre')['na_sales'].sum().sort_values()"
   ]
  },
  {
   "cell_type": "code",
   "execution_count": 70,
   "id": "09325f44",
   "metadata": {},
   "outputs": [],
   "source": [
    "# создам новый столбец в таблице где жанры не из топ 5 заменю на 'другие'\n",
    "warnings.filterwarnings(\"ignore\")\n",
    "na_top_genres = ['Action', 'Shooter', 'Sports', 'Role-Playing', 'Misc']\n",
    "df_after_2011['na_top_genres'] = df_after_2011['genre']\n",
    "df_after_2011['na_top_genres'] = df_after_2011['na_top_genres'].where(df_after_2011['na_top_genres'].isin(na_top_genres), 'другие')"
   ]
  },
  {
   "cell_type": "code",
   "execution_count": 71,
   "id": "0808a144",
   "metadata": {},
   "outputs": [
    {
     "data": {
      "text/plain": [
       "array(['Action', 'Shooter', 'Role-Playing', 'другие', 'Misc', 'Sports'],\n",
       "      dtype=object)"
      ]
     },
     "execution_count": 71,
     "metadata": {},
     "output_type": "execute_result"
    }
   ],
   "source": [
    "# проверю значения столбца\n",
    "df_after_2011['na_top_genres'].unique()"
   ]
  },
  {
   "cell_type": "code",
   "execution_count": 72,
   "id": "8cecc443",
   "metadata": {},
   "outputs": [
    {
     "data": {
      "text/plain": [
       "genre\n",
       "Puzzle            1.40\n",
       "Strategy          5.17\n",
       "Adventure         9.46\n",
       "Fighting         10.79\n",
       "Simulation       14.55\n",
       "Platform         21.41\n",
       "Misc             26.32\n",
       "Racing           27.29\n",
       "Role-Playing     48.53\n",
       "Sports           69.09\n",
       "Shooter         113.47\n",
       "Action          159.34\n",
       "Name: eu_sales, dtype: float64"
      ]
     },
     "execution_count": 72,
     "metadata": {},
     "output_type": "execute_result"
    }
   ],
   "source": [
    "# сгруппирую продажи по жанрам в европе\n",
    "df_after_2011.groupby('genre')['eu_sales'].sum().sort_values()"
   ]
  },
  {
   "cell_type": "code",
   "execution_count": 73,
   "id": "2a1d55f3",
   "metadata": {},
   "outputs": [],
   "source": [
    "# создам новый столбец в таблице где жанры не из топ 5 заменю на 'другие'\n",
    "warnings.filterwarnings(\"ignore\")\n",
    "eu_top_genres = ['Action', 'Shooter', 'Sports', 'Role-Playing', 'Racing']\n",
    "df_after_2011['eu_top_genres'] = df_after_2011['genre']\n",
    "df_after_2011['eu_top_genres'] = df_after_2011['eu_top_genres'].where(df_after_2011['eu_top_genres'].isin(eu_top_genres), 'другие')"
   ]
  },
  {
   "cell_type": "code",
   "execution_count": 74,
   "id": "8eecd7cc",
   "metadata": {},
   "outputs": [
    {
     "data": {
      "text/plain": [
       "array(['Action', 'Shooter', 'Role-Playing', 'другие', 'Sports', 'Racing'],\n",
       "      dtype=object)"
      ]
     },
     "execution_count": 74,
     "metadata": {},
     "output_type": "execute_result"
    }
   ],
   "source": [
    "# проверю значения столбца\n",
    "df_after_2011['eu_top_genres'].unique()"
   ]
  },
  {
   "cell_type": "code",
   "execution_count": 75,
   "id": "169498b5",
   "metadata": {},
   "outputs": [
    {
     "data": {
      "text/plain": [
       "genre\n",
       "Puzzle           2.14\n",
       "Racing           2.50\n",
       "Strategy         2.88\n",
       "Sports           8.01\n",
       "Adventure        8.24\n",
       "Platform         8.63\n",
       "Shooter          9.23\n",
       "Fighting         9.44\n",
       "Simulation      10.41\n",
       "Misc            12.86\n",
       "Action          52.80\n",
       "Role-Playing    65.44\n",
       "Name: jp_sales, dtype: float64"
      ]
     },
     "execution_count": 75,
     "metadata": {},
     "output_type": "execute_result"
    }
   ],
   "source": [
    "# сгруппирую продажи по жанрам в японии\n",
    "df_after_2011.groupby('genre')['jp_sales'].sum().sort_values()"
   ]
  },
  {
   "cell_type": "code",
   "execution_count": 76,
   "id": "35519c49",
   "metadata": {},
   "outputs": [],
   "source": [
    "# создам новый столбец в таблице где жанры не из топ 5 заменю на 'другие'\n",
    "warnings.filterwarnings(\"ignore\")\n",
    "jp_top_genres = ['Action', 'Simulation', 'Misc', 'Role-Playing', 'Fighting']\n",
    "df_after_2011['jp_top_genres'] = df_after_2011['genre']\n",
    "df_after_2011['jp_top_genres'] = df_after_2011['jp_top_genres'].where(df_after_2011['jp_top_genres'].isin(jp_top_genres), 'другие')"
   ]
  },
  {
   "cell_type": "code",
   "execution_count": 77,
   "id": "f2c67596",
   "metadata": {},
   "outputs": [
    {
     "data": {
      "text/plain": [
       "array(['Action', 'другие', 'Role-Playing', 'Misc', 'Simulation',\n",
       "       'Fighting'], dtype=object)"
      ]
     },
     "execution_count": 77,
     "metadata": {},
     "output_type": "execute_result"
    }
   ],
   "source": [
    "# проверю значения столбца\n",
    "df_after_2011['jp_top_genres'].unique()"
   ]
  },
  {
   "cell_type": "code",
   "execution_count": 78,
   "id": "9700c3c1",
   "metadata": {},
   "outputs": [
    {
     "data": {
      "text/plain": [
       "genre\n",
       "Puzzle           0.22\n",
       "Strategy         1.06\n",
       "Simulation       2.19\n",
       "Adventure        2.81\n",
       "Fighting         4.47\n",
       "Platform         5.58\n",
       "Racing           6.49\n",
       "Misc             7.67\n",
       "Role-Playing    14.83\n",
       "Sports          22.44\n",
       "Shooter         37.26\n",
       "Action          51.14\n",
       "Name: other_sales, dtype: float64"
      ]
     },
     "execution_count": 78,
     "metadata": {},
     "output_type": "execute_result"
    }
   ],
   "source": [
    "# сгруппирую продажи по жанрам в остальном мире\n",
    "df_after_2011.groupby('genre')['other_sales'].sum().sort_values()"
   ]
  },
  {
   "cell_type": "code",
   "execution_count": 79,
   "id": "88a72369",
   "metadata": {},
   "outputs": [],
   "source": [
    "# создам новый столбец в таблице где жанры не из топ 5 заменю на 'другие'\n",
    "warnings.filterwarnings(\"ignore\")\n",
    "other_top_genres = ['Action', 'Shooter', 'Sports', 'Role-Playing', 'Misc']\n",
    "df_after_2011['other_top_genres'] = df_after_2011['genre']\n",
    "df_after_2011['other_top_genres'] = df_after_2011['other_top_genres'].where(df_after_2011['other_top_genres'].isin(other_top_genres), 'другие')"
   ]
  },
  {
   "cell_type": "code",
   "execution_count": 80,
   "id": "0e8501cb",
   "metadata": {},
   "outputs": [
    {
     "data": {
      "text/plain": [
       "array(['Action', 'Shooter', 'Role-Playing', 'другие', 'Misc', 'Sports'],\n",
       "      dtype=object)"
      ]
     },
     "execution_count": 80,
     "metadata": {},
     "output_type": "execute_result"
    }
   ],
   "source": [
    "# проверю значения столбца\n",
    "df_after_2011['other_top_genres'].unique()"
   ]
  },
  {
   "cell_type": "code",
   "execution_count": 81,
   "id": "565b8f45",
   "metadata": {},
   "outputs": [],
   "source": [
    "# Создам сводные таблицы сумма продаж по жанрам\n",
    "na_genres = df_after_2011.pivot_table(index='na_top_genres', values='na_sales', aggfunc='sum').sort_values(by='na_sales')\n",
    "na_genres.reset_index(inplace = True)\n",
    "eu_genres = df_after_2011.pivot_table(index='eu_top_genres', values='eu_sales', aggfunc='sum').sort_values(by='eu_sales')\n",
    "eu_genres.reset_index(inplace = True)\n",
    "jp_genres = df_after_2011.pivot_table(index='jp_top_genres', values='jp_sales', aggfunc='sum').sort_values(by='jp_sales')\n",
    "jp_genres.reset_index(inplace = True)\n",
    "other_genres = df_after_2011.pivot_table(index='other_top_genres', values='other_sales', aggfunc='sum').sort_values(by='other_sales')\n",
    "other_genres.reset_index(inplace = True)"
   ]
  },
  {
   "cell_type": "code",
   "execution_count": 82,
   "id": "770ccfe7",
   "metadata": {},
   "outputs": [],
   "source": [
    "# Обьединю все таблицы и добавлю столбец со списком жанров\n",
    "all_top_genres = pd.concat([na_genres, eu_genres, jp_genres, other_genres], sort=False, axis=0)\n",
    "all_top_genres['all_genres'] = ['Misc', 'Role-Playing', 'Sports', 'другие', 'Shooter', 'Action', 'Racing', 'Role-Playing', \n",
    "                                'Sports', 'другие', 'Shooter', 'Action', 'Fighting', 'Simulation', 'Misc', 'другие', 'Action', \n",
    "                                'Role-Playing', 'Misc', 'Role-Playing', 'Sports', 'другие', 'Shooter', 'Action']"
   ]
  },
  {
   "cell_type": "code",
   "execution_count": 83,
   "id": "bbc20e31",
   "metadata": {},
   "outputs": [
    {
     "data": {
      "image/png": "[encoded data removed]",
      "text/plain": [
       "<Figure size 1080x1080 with 1 Axes>"
      ]
     },
     "metadata": {
      "needs_background": "light"
     },
     "output_type": "display_data"
    }
   ],
   "source": [
    "# Посмотрим различия по продажам по жанрам по всем регионам\n",
    "all_top_genres.plot(kind='bar', figsize=(15, 15))\n",
    "plt.gca().set_xticklabels(all_top_genres['all_genres'], rotation=60, horizontalalignment= 'right')\n",
    "plt.ylabel(\"продажи в млн копий\")\n",
    "plt.title(\"топ 5 жанров по регионам\")\n",
    "plt.show()"
   ]
  },
  {
   "cell_type": "markdown",
   "id": "7c4203e8",
   "metadata": {},
   "source": [
    "По диаграмме хорошо видно что Европа и Америка основные рынки сбыта для игр и доминируют там жанры экшен и шутер и в целом предпочтения в жанрах игр довольно схожи, выделяется снова Япония где самый популярный жанр ролевой игры а также в топ 5 симуляции и файтинг, чего нет в топах других регионов"
   ]
  },
  {
   "cell_type": "markdown",
   "id": "488941b8",
   "metadata": {},
   "source": [
    "Исследуем также влияние возрастного рейтинга на продажи по регионам"
   ]
  },
  {
   "cell_type": "code",
   "execution_count": 84,
   "id": "55d42bb5",
   "metadata": {},
   "outputs": [
    {
     "data": {
      "text/html": [
       "<div>\n",
       "<style scoped>\n",
       "    .dataframe tbody tr th:only-of-type {\n",
       "        vertical-align: middle;\n",
       "    }\n",
       "\n",
       "    .dataframe tbody tr th {\n",
       "        vertical-align: top;\n",
       "    }\n",
       "\n",
       "    .dataframe thead th {\n",
       "        text-align: right;\n",
       "    }\n",
       "</style>\n",
       "<table border=\"1\" class=\"dataframe\">\n",
       "  <thead>\n",
       "    <tr style=\"text-align: right;\">\n",
       "      <th></th>\n",
       "      <th>rating</th>\n",
       "      <th>na_sales</th>\n",
       "      <th>rating</th>\n",
       "      <th>eu_sales</th>\n",
       "      <th>rating</th>\n",
       "      <th>jp_sales</th>\n",
       "      <th>rating</th>\n",
       "      <th>other_sales</th>\n",
       "    </tr>\n",
       "  </thead>\n",
       "  <tbody>\n",
       "    <tr>\n",
       "      <th>0</th>\n",
       "      <td>T</td>\n",
       "      <td>66.02</td>\n",
       "      <td>T</td>\n",
       "      <td>52.96</td>\n",
       "      <td>E10+</td>\n",
       "      <td>8.19</td>\n",
       "      <td>E10+</td>\n",
       "      <td>16.23</td>\n",
       "    </tr>\n",
       "    <tr>\n",
       "      <th>1</th>\n",
       "      <td>E10+</td>\n",
       "      <td>75.70</td>\n",
       "      <td>E10+</td>\n",
       "      <td>55.37</td>\n",
       "      <td>M</td>\n",
       "      <td>21.20</td>\n",
       "      <td>T</td>\n",
       "      <td>17.94</td>\n",
       "    </tr>\n",
       "    <tr>\n",
       "      <th>2</th>\n",
       "      <td>unknown</td>\n",
       "      <td>103.31</td>\n",
       "      <td>unknown</td>\n",
       "      <td>91.50</td>\n",
       "      <td>T</td>\n",
       "      <td>26.02</td>\n",
       "      <td>unknown</td>\n",
       "      <td>27.17</td>\n",
       "    </tr>\n",
       "    <tr>\n",
       "      <th>3</th>\n",
       "      <td>E</td>\n",
       "      <td>114.37</td>\n",
       "      <td>E</td>\n",
       "      <td>113.03</td>\n",
       "      <td>E</td>\n",
       "      <td>28.33</td>\n",
       "      <td>E</td>\n",
       "      <td>31.44</td>\n",
       "    </tr>\n",
       "    <tr>\n",
       "      <th>4</th>\n",
       "      <td>M</td>\n",
       "      <td>231.57</td>\n",
       "      <td>M</td>\n",
       "      <td>193.96</td>\n",
       "      <td>unknown</td>\n",
       "      <td>108.84</td>\n",
       "      <td>M</td>\n",
       "      <td>63.38</td>\n",
       "    </tr>\n",
       "  </tbody>\n",
       "</table>\n",
       "</div>"
      ],
      "text/plain": [
       "    rating  na_sales   rating  eu_sales   rating  jp_sales   rating  \\\n",
       "0        T     66.02        T     52.96     E10+      8.19     E10+   \n",
       "1     E10+     75.70     E10+     55.37        M     21.20        T   \n",
       "2  unknown    103.31  unknown     91.50        T     26.02  unknown   \n",
       "3        E    114.37        E    113.03        E     28.33        E   \n",
       "4        M    231.57        M    193.96  unknown    108.84        M   \n",
       "\n",
       "   other_sales  \n",
       "0        16.23  \n",
       "1        17.94  \n",
       "2        27.17  \n",
       "3        31.44  \n",
       "4        63.38  "
      ]
     },
     "execution_count": 84,
     "metadata": {},
     "output_type": "execute_result"
    }
   ],
   "source": [
    "# Создам таблицу с суммой продаж по регионам по рейтингу\n",
    "na_rating = df_after_2011.pivot_table(index='rating', values='na_sales', aggfunc='sum').sort_values(by='na_sales')\n",
    "na_rating.reset_index(inplace = True)\n",
    "eu_rating = df_after_2011.pivot_table(index='rating', values='eu_sales', aggfunc='sum').sort_values(by='eu_sales')\n",
    "eu_rating.reset_index(inplace = True)\n",
    "jp_rating = df_after_2011.pivot_table(index='rating', values='jp_sales', aggfunc='sum').sort_values(by='jp_sales')\n",
    "jp_rating.reset_index(inplace = True)\n",
    "other_rating = df_after_2011.pivot_table(index='rating', values='other_sales', aggfunc='sum').sort_values(by='other_sales')\n",
    "other_rating.reset_index(inplace = True)\n",
    "all_top_rating = pd.concat([na_rating, eu_rating, jp_rating, other_rating], sort=False, axis=1)\n",
    "all_top_rating"
   ]
  },
  {
   "cell_type": "markdown",
   "id": "f277f221",
   "metadata": {},
   "source": [
    "Здесь также видно что во всем мире самые продаваемые игры с взрослым рейтингом и на втором месте игры для всех, тогда как в Японии на первом месте игры с неизвестным возрастным рейтингом, а на втором также для всех. Возможно причина неизвестного рейтинга и его популярности в Японии что это местный продукт для которого ассоциация ESRB не выставляла рейтинг."
   ]
  },
  {
   "cell_type": "markdown",
   "id": "e7c06423",
   "metadata": {},
   "source": [
    "#### Вывод:\n",
    "По полученным данным можно составить характерный портрет пользователя для каждого региона, для Европы и Америки это будет игрок использующий PS или XBOX, играющий в игры жанра экшен и шутер со взрослым рейтингом, для Японии же это будет играющий на 3DS в игру жанра ролевые или так же экшен но с рейтингом игры неизвестным."
   ]
  },
  {
   "cell_type": "markdown",
   "id": "62c80467",
   "metadata": {},
   "source": [
    "### Шаг 5. Проверка гипотез"
   ]
  },
  {
   "cell_type": "markdown",
   "id": "2576b248",
   "metadata": {},
   "source": [
    "* 1. Средние пользовательские рейтинги платформ Xbox One и PC одинаковые;\n",
    "\n",
    "Для этого сформируем гипотезу H0: Средние пользовательские рейтинги платформ Xbox One и PC существенно не различаются и альтернативную H1: В средних пользовательских рейтингах платформ Xbox One и PC есть существенные различия . Я буду использовать t-критерий Стьюдента так как он подходит для проверки равенства средних значений в двух выборках. Для выявления существенности различий пороговое значение alpha задам равным 0,05"
   ]
  },
  {
   "cell_type": "code",
   "execution_count": 85,
   "id": "e8b32a58",
   "metadata": {},
   "outputs": [],
   "source": [
    "# Сделаю срезы с нужными параметрами\n",
    "XOne = df_after_2011.query('platform == \"XOne\" and user_score != -1')\n",
    "PC = df_after_2011.query('platform == \"PC\" and user_score != -1')"
   ]
  },
  {
   "cell_type": "code",
   "execution_count": 86,
   "id": "568b7827",
   "metadata": {},
   "outputs": [
    {
     "data": {
      "text/plain": [
       "1.8965187072753906"
      ]
     },
     "execution_count": 86,
     "metadata": {},
     "output_type": "execute_result"
    }
   ],
   "source": [
    "# Посмотрим на дисперсию значений оценок платформы Xbox One\n",
    "np.var(XOne['user_score'])"
   ]
  },
  {
   "cell_type": "code",
   "execution_count": 87,
   "id": "2a519468",
   "metadata": {},
   "outputs": [
    {
     "data": {
      "text/plain": [
       "2.756995439529419"
      ]
     },
     "execution_count": 87,
     "metadata": {},
     "output_type": "execute_result"
    }
   ],
   "source": [
    "# Посмотрим на дисперсию значений оценок платформы PC\n",
    "np.var(PC['user_score'])"
   ]
  },
  {
   "cell_type": "code",
   "execution_count": 88,
   "id": "9f781d1a",
   "metadata": {},
   "outputs": [
    {
     "name": "stdout",
     "output_type": "stream",
     "text": [
      "Не получилось отвергнуть нулевую гипотезу\n",
      "p-значение:  0.5489560454239967\n"
     ]
    }
   ],
   "source": [
    "# Проведем Т-тест на равенство двух средних\n",
    "results = st.ttest_ind(XOne['user_score'], PC['user_score'], equal_var = False)\n",
    "# equal_var - равен False так как дисперсии выборок отличаются\n",
    "alpha = .05\n",
    "if results.pvalue < alpha:\n",
    "    print(\"Отвергаем нулевую гипотезу\")\n",
    "else:\n",
    "    print(\"Не получилось отвергнуть нулевую гипотезу\") \n",
    "print('p-значение: ', results.pvalue)"
   ]
  },
  {
   "cell_type": "markdown",
   "id": "ccc46c1e",
   "metadata": {},
   "source": [
    "По результатам теста отклонить нулевую гипотезу мы не можем, что значит вероятнее всего средние пользовательские рейтинги платформ Xbox One и PC действительно одинаковые. Посмотрим распределение значений по этим выборкам."
   ]
  },
  {
   "cell_type": "code",
   "execution_count": 89,
   "id": "6b26ac4e",
   "metadata": {},
   "outputs": [
    {
     "data": {
      "text/plain": [
       "count    182.000000\n",
       "mean       6.521427\n",
       "std        1.380941\n",
       "min        1.600000\n",
       "25%        5.800000\n",
       "50%        6.800000\n",
       "75%        7.500000\n",
       "max        9.200000\n",
       "Name: user_score, dtype: float64"
      ]
     },
     "execution_count": 89,
     "metadata": {},
     "output_type": "execute_result"
    }
   ],
   "source": [
    "# Распределение значений по Xbox One\n",
    "XOne['user_score'].describe()"
   ]
  },
  {
   "cell_type": "code",
   "execution_count": 90,
   "id": "7d50b629",
   "metadata": {},
   "outputs": [
    {
     "data": {
      "text/plain": [
       "count    206.000000\n",
       "mean       6.428643\n",
       "std        1.664465\n",
       "min        1.400000\n",
       "25%        5.500000\n",
       "50%        6.800000\n",
       "75%        7.700000\n",
       "max        9.300000\n",
       "Name: user_score, dtype: float64"
      ]
     },
     "execution_count": 90,
     "metadata": {},
     "output_type": "execute_result"
    }
   ],
   "source": [
    "# Распределение значений по РС\n",
    "PC['user_score'].describe()"
   ]
  },
  {
   "cell_type": "markdown",
   "id": "b9f79277",
   "metadata": {},
   "source": [
    "Действительно средние оценки очень близки друг к другу а медианы и вовсе одинаковы, что подтверждает нулевую гипотезу"
   ]
  },
  {
   "cell_type": "markdown",
   "id": "b018ac36",
   "metadata": {},
   "source": [
    "* 2. Средние пользовательские рейтинги жанров Action  и Sports разные.\n",
    "\n",
    "Для этого также сформируем две гипотезы H0: Средние пользовательские рейтинги жанров Action  и Sports существенно не различаются и альтернативную H1: В средних пользовательских рейтингах жанров Action  и Sports есть существенные различия. Для выявления различий использоваться также будет t-критерий Стьюдента, пороговое значение alpha задам равным 0,05"
   ]
  },
  {
   "cell_type": "code",
   "execution_count": 91,
   "id": "495efb95",
   "metadata": {},
   "outputs": [],
   "source": [
    "# Сделаю срезы с нужными параметрами\n",
    "Action = df_after_2011.query('genre == \"Action\" and user_score != -1')\n",
    "Sports = df_after_2011.query('genre == \"Sports\" and user_score != -1')"
   ]
  },
  {
   "cell_type": "code",
   "execution_count": 92,
   "id": "f80f1740",
   "metadata": {},
   "outputs": [
    {
     "data": {
      "text/plain": [
       "1.8854718208312988"
      ]
     },
     "execution_count": 92,
     "metadata": {},
     "output_type": "execute_result"
    }
   ],
   "source": [
    "# Посмотрим на дисперсию значений оценок жанра экшен\n",
    "np.var(Action['user_score'])"
   ]
  },
  {
   "cell_type": "code",
   "execution_count": 93,
   "id": "2de92046",
   "metadata": {},
   "outputs": [
    {
     "data": {
      "text/plain": [
       "3.0073883533477783"
      ]
     },
     "execution_count": 93,
     "metadata": {},
     "output_type": "execute_result"
    }
   ],
   "source": [
    "# Посмотрим на дисперсию значений оценок жанра спорт\n",
    "np.var(Sports['user_score'])"
   ]
  },
  {
   "cell_type": "code",
   "execution_count": 94,
   "id": "0bc1c161",
   "metadata": {},
   "outputs": [
    {
     "name": "stdout",
     "output_type": "stream",
     "text": [
      "Отвергаем нулевую гипотезу\n",
      "p-значение:  4.2428970996510126e-20\n"
     ]
    }
   ],
   "source": [
    "# Проведем Т-тест на равенство двух средних\n",
    "results = st.ttest_ind(Action['user_score'], Sports['user_score'], equal_var = False)\n",
    "# equal_var - равен False так как дисперсии выборок отличаются\n",
    "alpha = .05\n",
    "if results.pvalue < alpha:\n",
    "    print(\"Отвергаем нулевую гипотезу\")\n",
    "else:\n",
    "    print(\"Не получилось отвергнуть нулевую гипотезу\") \n",
    "print('p-значение: ', results.pvalue)"
   ]
  },
  {
   "cell_type": "markdown",
   "id": "7eb5341c",
   "metadata": {},
   "source": [
    "По результатам теста мы отклоняем нулевую гипотезу, что значит вероятнее всего средние пользовательские рейтинги жанров  экшен и спорт действительно разные. Посмотрим распределение значений по этим выборкам."
   ]
  },
  {
   "cell_type": "code",
   "execution_count": 95,
   "id": "22bce244",
   "metadata": {},
   "outputs": [
    {
     "data": {
      "text/plain": [
       "count    195.000000\n",
       "mean       5.455898\n",
       "std        1.738646\n",
       "min        0.200000\n",
       "25%        4.300000\n",
       "50%        5.700000\n",
       "75%        6.800000\n",
       "max        8.800000\n",
       "Name: user_score, dtype: float64"
      ]
     },
     "execution_count": 95,
     "metadata": {},
     "output_type": "execute_result"
    }
   ],
   "source": [
    "# Распределение значений по жанру спорт\n",
    "Sports['user_score'].describe()"
   ]
  },
  {
   "cell_type": "code",
   "execution_count": 96,
   "id": "619d6993",
   "metadata": {},
   "outputs": [
    {
     "data": {
      "text/plain": [
       "count    523.000000\n",
       "mean       6.825051\n",
       "std        1.374439\n",
       "min        1.600000\n",
       "25%        6.250000\n",
       "50%        7.100000\n",
       "75%        7.800000\n",
       "max        9.100000\n",
       "Name: user_score, dtype: float64"
      ]
     },
     "execution_count": 96,
     "metadata": {},
     "output_type": "execute_result"
    }
   ],
   "source": [
    "# Распределение значений по жанру экшен\n",
    "Action['user_score'].describe()"
   ]
  },
  {
   "cell_type": "markdown",
   "id": "b1b76eb1",
   "metadata": {},
   "source": [
    "Средняя и медиана у этих выборок действительно довольно сильно различаются, что также подтверждает первую гипотезу"
   ]
  },
  {
   "cell_type": "markdown",
   "id": "27ee04a8",
   "metadata": {},
   "source": [
    "## Вывод:\n",
    "В этом исследовании я анализировал данные по продажам игр с 1980-2016 год, целью исследования было выявить определяющие успешность игры закономерности. Перед началом анализа я провел предобработку данных, в таблице имелось большое количество пропущенных значений, пропуски я заменил на нейтральные значения так как не имел возможности их восстановить и не удалял дабы не потерять нужные для анализа данные. \n",
    "\n",
    "На этапе анализа мною было выявлено что после 2011 года пошел резкий спад в выпуске новых игр, что я связываю в первую очередь с развитием мобильных игр и тем что возможно сейчас разработка новых игр довольно затратный процесс и многие разработчики стараются заработать на перевыпуске старых игр, в том числе оптимизированных под смартфоны. В целом по анализу можно сказать что средняя жизнь игровой платформы равняется 10 годам.\n",
    "\n",
    "Также я нашел наиболее популярные платформы в период с 2012-2016 года коими стали 'PS4', 'PS3', 'X360', '3DS' и 'XOne'. Но у всех них также идет тенденция на снижение количества выпускаемых на них игр.\n",
    "\n",
    "По влиянию оценок на продажи можно сказать что оценки критиков и пользователей не коррелирует на прямую с продажами и не сильно на них влияют.\n",
    "\n",
    "Самые популярные игры по жанрам это шутеры, по крайней мере в Америке, Европе и остальном мире кроме Японии где на первом месте стоят ролевые игры, самые не популярные это стратегии, пазлы и приключения. \n",
    "\n",
    "Также Япония отметилась тем что самая популярная игровая платформа там это nintendo 3DS, тогда как в остальных регионах это PS или XBOX и тем что наибольшее количество проданных игр там не имеют рейтинга от ESRB что скорее всего связано с тем, что в Японии более популярны игры местных разработчиков, тогда как в остальном мире это игры разработанные в США и Европе и имеющие взрослый рейтинг.\n",
    "\n",
    "Еще в ходе анализа я проверил гипотезу о том что средние пользовательские рейтинги платформ Xbox One и PC одинаковые, проведенный мною статистический тест не смог опровергнуть эту гипотезу. Другая гипотеза что средние пользовательские рейтинги жанров Action (англ. «действие», экшен-игры) и Sports (англ. «спортивные соревнования») разные, также не была отвергнута так как не протеворечила результатам проведенного теста."
   ]
  }
 ],
 "metadata": {
  "ExecuteTimeLog": [
   {
    "duration": 1152,
    "start_time": "2022-05-31T04:53:03.851Z"
   },
   {
    "duration": 105,
    "start_time": "2022-05-31T04:53:05.005Z"
   },
   {
    "duration": 13,
    "start_time": "2022-05-31T04:53:05.111Z"
   },
   {
    "duration": 6,
    "start_time": "2022-05-31T04:53:05.126Z"
   },
   {
    "duration": 8,
    "start_time": "2022-05-31T04:53:05.134Z"
   },
   {
    "duration": 10,
    "start_time": "2022-05-31T04:53:05.143Z"
   },
   {
    "duration": 7,
    "start_time": "2022-05-31T04:53:05.155Z"
   },
   {
    "duration": 33,
    "start_time": "2022-05-31T04:53:05.164Z"
   },
   {
    "duration": 6,
    "start_time": "2022-05-31T04:53:05.199Z"
   },
   {
    "duration": 10,
    "start_time": "2022-05-31T04:53:05.207Z"
   },
   {
    "duration": 8,
    "start_time": "2022-05-31T04:53:05.218Z"
   },
   {
    "duration": 80,
    "start_time": "2022-05-31T04:53:05.227Z"
   },
   {
    "duration": 8,
    "start_time": "2022-05-31T04:53:05.308Z"
   },
   {
    "duration": 3,
    "start_time": "2022-05-31T04:53:05.319Z"
   },
   {
    "duration": 6,
    "start_time": "2022-05-31T04:53:05.323Z"
   },
   {
    "duration": 9,
    "start_time": "2022-05-31T04:53:05.330Z"
   },
   {
    "duration": 7,
    "start_time": "2022-05-31T04:53:05.340Z"
   },
   {
    "duration": 6,
    "start_time": "2022-05-31T04:53:05.348Z"
   },
   {
    "duration": 9,
    "start_time": "2022-05-31T04:53:05.355Z"
   },
   {
    "duration": 27,
    "start_time": "2022-05-31T04:53:05.365Z"
   },
   {
    "duration": 11,
    "start_time": "2022-05-31T04:53:05.394Z"
   },
   {
    "duration": 3,
    "start_time": "2022-05-31T04:53:05.407Z"
   },
   {
    "duration": 16,
    "start_time": "2022-05-31T04:53:05.411Z"
   },
   {
    "duration": 13,
    "start_time": "2022-05-31T04:53:05.429Z"
   },
   {
    "duration": 382,
    "start_time": "2022-05-31T04:53:05.444Z"
   },
   {
    "duration": 6,
    "start_time": "2022-05-31T04:53:05.827Z"
   },
   {
    "duration": 10,
    "start_time": "2022-05-31T04:53:05.834Z"
   },
   {
    "duration": 7,
    "start_time": "2022-05-31T04:53:05.845Z"
   },
   {
    "duration": 286,
    "start_time": "2022-05-31T04:53:05.853Z"
   },
   {
    "duration": 200,
    "start_time": "2022-05-31T04:53:06.141Z"
   },
   {
    "duration": 5,
    "start_time": "2022-05-31T04:53:06.343Z"
   },
   {
    "duration": 180,
    "start_time": "2022-05-31T04:53:06.350Z"
   },
   {
    "duration": 5,
    "start_time": "2022-05-31T04:53:06.532Z"
   },
   {
    "duration": 191,
    "start_time": "2022-05-31T04:53:06.538Z"
   },
   {
    "duration": 5,
    "start_time": "2022-05-31T04:53:06.731Z"
   },
   {
    "duration": 7,
    "start_time": "2022-05-31T04:53:06.738Z"
   },
   {
    "duration": 175,
    "start_time": "2022-05-31T04:53:06.746Z"
   },
   {
    "duration": 5,
    "start_time": "2022-05-31T04:53:06.923Z"
   },
   {
    "duration": 173,
    "start_time": "2022-05-31T04:53:06.930Z"
   },
   {
    "duration": 5,
    "start_time": "2022-05-31T04:53:07.105Z"
   },
   {
    "duration": 197,
    "start_time": "2022-05-31T04:53:07.115Z"
   },
   {
    "duration": 7,
    "start_time": "2022-05-31T04:53:07.314Z"
   },
   {
    "duration": 6,
    "start_time": "2022-05-31T04:53:07.322Z"
   },
   {
    "duration": 7,
    "start_time": "2022-05-31T04:53:07.330Z"
   },
   {
    "duration": 7,
    "start_time": "2022-05-31T04:53:07.339Z"
   },
   {
    "duration": 5,
    "start_time": "2022-05-31T04:53:07.348Z"
   },
   {
    "duration": 11,
    "start_time": "2022-05-31T04:53:07.355Z"
   },
   {
    "duration": 25,
    "start_time": "2022-05-31T04:53:07.367Z"
   },
   {
    "duration": 5,
    "start_time": "2022-05-31T04:53:07.394Z"
   },
   {
    "duration": 29,
    "start_time": "2022-05-31T04:53:07.400Z"
   },
   {
    "duration": 15,
    "start_time": "2022-05-31T04:53:07.430Z"
   },
   {
    "duration": 20,
    "start_time": "2022-05-31T04:53:07.447Z"
   },
   {
    "duration": 8,
    "start_time": "2022-05-31T04:53:07.468Z"
   },
   {
    "duration": 21,
    "start_time": "2022-05-31T04:53:07.478Z"
   },
   {
    "duration": 13,
    "start_time": "2022-05-31T04:53:07.500Z"
   },
   {
    "duration": 9,
    "start_time": "2022-05-31T04:53:07.514Z"
   },
   {
    "duration": 13,
    "start_time": "2022-05-31T04:53:07.524Z"
   },
   {
    "duration": 13,
    "start_time": "2022-05-31T04:53:07.538Z"
   },
   {
    "duration": 362,
    "start_time": "2022-05-31T04:53:07.552Z"
   },
   {
    "duration": 7,
    "start_time": "2022-05-31T04:53:07.915Z"
   },
   {
    "duration": 7,
    "start_time": "2022-05-31T04:53:07.923Z"
   },
   {
    "duration": 6,
    "start_time": "2022-05-31T04:53:07.931Z"
   },
   {
    "duration": 8,
    "start_time": "2022-05-31T04:53:07.938Z"
   },
   {
    "duration": 6,
    "start_time": "2022-05-31T04:53:07.947Z"
   },
   {
    "duration": 8,
    "start_time": "2022-05-31T04:53:07.954Z"
   },
   {
    "duration": 28,
    "start_time": "2022-05-31T04:53:07.963Z"
   },
   {
    "duration": 4,
    "start_time": "2022-05-31T04:53:07.993Z"
   },
   {
    "duration": 6,
    "start_time": "2022-05-31T04:53:07.999Z"
   },
   {
    "duration": 7,
    "start_time": "2022-05-31T04:53:08.006Z"
   },
   {
    "duration": 5,
    "start_time": "2022-05-31T04:53:08.014Z"
   },
   {
    "duration": 10,
    "start_time": "2022-05-31T04:53:08.020Z"
   },
   {
    "duration": 113,
    "start_time": "2022-05-31T04:53:08.031Z"
   },
   {
    "duration": 6,
    "start_time": "2022-05-31T04:53:08.145Z"
   },
   {
    "duration": 387,
    "start_time": "2022-05-31T04:53:08.152Z"
   },
   {
    "duration": 36,
    "start_time": "2022-05-31T04:53:08.540Z"
   },
   {
    "duration": 17,
    "start_time": "2022-05-31T04:53:08.578Z"
   },
   {
    "duration": 6,
    "start_time": "2022-05-31T04:53:08.596Z"
   },
   {
    "duration": 5,
    "start_time": "2022-05-31T04:53:08.603Z"
   },
   {
    "duration": 5,
    "start_time": "2022-05-31T04:53:08.610Z"
   },
   {
    "duration": 8,
    "start_time": "2022-05-31T04:53:08.616Z"
   },
   {
    "duration": 7,
    "start_time": "2022-05-31T04:53:08.625Z"
   },
   {
    "duration": 7,
    "start_time": "2022-05-31T04:53:08.634Z"
   },
   {
    "duration": 5,
    "start_time": "2022-05-31T04:53:08.643Z"
   },
   {
    "duration": 5,
    "start_time": "2022-05-31T04:53:08.650Z"
   },
   {
    "duration": 39,
    "start_time": "2022-05-31T04:53:08.656Z"
   },
   {
    "duration": 8,
    "start_time": "2022-05-31T04:53:08.697Z"
   },
   {
    "duration": 8,
    "start_time": "2022-05-31T04:53:08.706Z"
   },
   {
    "duration": 1691,
    "start_time": "2022-05-31T13:28:48.869Z"
   },
   {
    "duration": 116,
    "start_time": "2022-05-31T13:28:50.562Z"
   },
   {
    "duration": 16,
    "start_time": "2022-05-31T13:28:50.679Z"
   },
   {
    "duration": 27,
    "start_time": "2022-05-31T13:28:50.697Z"
   },
   {
    "duration": 20,
    "start_time": "2022-05-31T13:28:50.725Z"
   },
   {
    "duration": 15,
    "start_time": "2022-05-31T13:28:50.747Z"
   },
   {
    "duration": 9,
    "start_time": "2022-05-31T13:28:50.765Z"
   },
   {
    "duration": 36,
    "start_time": "2022-05-31T13:28:50.775Z"
   },
   {
    "duration": 12,
    "start_time": "2022-05-31T13:28:50.813Z"
   },
   {
    "duration": 18,
    "start_time": "2022-05-31T13:28:50.828Z"
   },
   {
    "duration": 45,
    "start_time": "2022-05-31T13:28:50.847Z"
   },
   {
    "duration": 58,
    "start_time": "2022-05-31T13:28:50.894Z"
   },
   {
    "duration": 8,
    "start_time": "2022-05-31T13:28:50.954Z"
   },
   {
    "duration": 7,
    "start_time": "2022-05-31T13:28:50.963Z"
   },
   {
    "duration": 20,
    "start_time": "2022-05-31T13:28:50.971Z"
   },
   {
    "duration": 18,
    "start_time": "2022-05-31T13:28:50.993Z"
   },
   {
    "duration": 23,
    "start_time": "2022-05-31T13:28:51.013Z"
   },
   {
    "duration": 11,
    "start_time": "2022-05-31T13:28:51.038Z"
   },
   {
    "duration": 19,
    "start_time": "2022-05-31T13:28:51.052Z"
   },
   {
    "duration": 20,
    "start_time": "2022-05-31T13:28:51.073Z"
   },
   {
    "duration": 17,
    "start_time": "2022-05-31T13:28:51.095Z"
   },
   {
    "duration": 27,
    "start_time": "2022-05-31T13:28:51.114Z"
   },
   {
    "duration": 5,
    "start_time": "2022-05-31T13:28:56.514Z"
   },
   {
    "duration": 15,
    "start_time": "2022-05-31T13:29:00.668Z"
   },
   {
    "duration": 8,
    "start_time": "2022-05-31T13:49:37.673Z"
   },
   {
    "duration": 104,
    "start_time": "2022-05-31T13:53:39.792Z"
   },
   {
    "duration": 7,
    "start_time": "2022-05-31T13:53:49.010Z"
   },
   {
    "duration": 646,
    "start_time": "2022-05-31T13:54:31.659Z"
   },
   {
    "duration": 357,
    "start_time": "2022-05-31T13:55:00.547Z"
   },
   {
    "duration": 289,
    "start_time": "2022-05-31T13:55:23.741Z"
   },
   {
    "duration": 286,
    "start_time": "2022-05-31T13:56:09.640Z"
   },
   {
    "duration": 1413,
    "start_time": "2022-05-31T19:00:57.241Z"
   },
   {
    "duration": 113,
    "start_time": "2022-05-31T19:00:58.656Z"
   },
   {
    "duration": 18,
    "start_time": "2022-05-31T19:00:58.771Z"
   },
   {
    "duration": 6,
    "start_time": "2022-05-31T19:00:58.791Z"
   },
   {
    "duration": 14,
    "start_time": "2022-05-31T19:00:58.799Z"
   },
   {
    "duration": 20,
    "start_time": "2022-05-31T19:00:58.815Z"
   },
   {
    "duration": 7,
    "start_time": "2022-05-31T19:00:58.837Z"
   },
   {
    "duration": 9,
    "start_time": "2022-05-31T19:00:58.845Z"
   },
   {
    "duration": 10,
    "start_time": "2022-05-31T19:00:58.856Z"
   },
   {
    "duration": 6,
    "start_time": "2022-05-31T19:00:58.869Z"
   },
   {
    "duration": 8,
    "start_time": "2022-05-31T19:00:58.878Z"
   },
   {
    "duration": 50,
    "start_time": "2022-05-31T19:00:58.927Z"
   },
   {
    "duration": 10,
    "start_time": "2022-05-31T19:00:58.979Z"
   },
   {
    "duration": 4,
    "start_time": "2022-05-31T19:00:58.991Z"
   },
   {
    "duration": 32,
    "start_time": "2022-05-31T19:00:58.996Z"
   },
   {
    "duration": 11,
    "start_time": "2022-05-31T19:00:59.030Z"
   },
   {
    "duration": 9,
    "start_time": "2022-05-31T19:00:59.042Z"
   },
   {
    "duration": 11,
    "start_time": "2022-05-31T19:00:59.052Z"
   },
   {
    "duration": 11,
    "start_time": "2022-05-31T19:00:59.064Z"
   },
   {
    "duration": 5,
    "start_time": "2022-05-31T19:00:59.077Z"
   },
   {
    "duration": 7,
    "start_time": "2022-05-31T19:00:59.084Z"
   },
   {
    "duration": 37,
    "start_time": "2022-05-31T19:00:59.092Z"
   },
   {
    "duration": 4,
    "start_time": "2022-05-31T19:00:59.132Z"
   },
   {
    "duration": 24,
    "start_time": "2022-05-31T19:00:59.138Z"
   },
   {
    "duration": 26,
    "start_time": "2022-05-31T19:00:59.163Z"
   },
   {
    "duration": 536,
    "start_time": "2022-05-31T19:00:59.191Z"
   },
   {
    "duration": 9,
    "start_time": "2022-05-31T19:00:59.728Z"
   },
   {
    "duration": 12,
    "start_time": "2022-05-31T19:00:59.742Z"
   },
   {
    "duration": 333,
    "start_time": "2022-05-31T19:00:59.756Z"
   },
   {
    "duration": 8,
    "start_time": "2022-05-31T19:01:00.091Z"
   },
   {
    "duration": 17,
    "start_time": "2022-05-31T19:01:00.101Z"
   },
   {
    "duration": 7,
    "start_time": "2022-05-31T19:01:00.119Z"
   },
   {
    "duration": 309,
    "start_time": "2022-05-31T19:01:00.128Z"
   },
   {
    "duration": 279,
    "start_time": "2022-05-31T19:01:00.439Z"
   },
   {
    "duration": 11,
    "start_time": "2022-05-31T19:01:00.720Z"
   },
   {
    "duration": 259,
    "start_time": "2022-05-31T19:01:00.733Z"
   },
   {
    "duration": 6,
    "start_time": "2022-05-31T19:01:00.995Z"
   },
   {
    "duration": 306,
    "start_time": "2022-05-31T19:01:01.003Z"
   },
   {
    "duration": 16,
    "start_time": "2022-05-31T19:01:01.311Z"
   },
   {
    "duration": 47,
    "start_time": "2022-05-31T19:01:01.330Z"
   },
   {
    "duration": 264,
    "start_time": "2022-05-31T19:01:01.380Z"
   },
   {
    "duration": 7,
    "start_time": "2022-05-31T19:01:01.646Z"
   },
   {
    "duration": 327,
    "start_time": "2022-05-31T19:01:01.655Z"
   },
   {
    "duration": 8,
    "start_time": "2022-05-31T19:01:01.984Z"
   },
   {
    "duration": 326,
    "start_time": "2022-05-31T19:01:01.993Z"
   },
   {
    "duration": 11,
    "start_time": "2022-05-31T19:01:02.321Z"
   },
   {
    "duration": 28,
    "start_time": "2022-05-31T19:01:02.334Z"
   },
   {
    "duration": 46,
    "start_time": "2022-05-31T19:01:02.364Z"
   },
   {
    "duration": 23,
    "start_time": "2022-05-31T19:01:02.413Z"
   },
   {
    "duration": 25,
    "start_time": "2022-05-31T19:01:02.438Z"
   },
   {
    "duration": 31,
    "start_time": "2022-05-31T19:01:02.465Z"
   },
   {
    "duration": 19,
    "start_time": "2022-05-31T19:01:02.498Z"
   },
   {
    "duration": 14,
    "start_time": "2022-05-31T19:01:02.519Z"
   },
   {
    "duration": 30,
    "start_time": "2022-05-31T19:01:02.535Z"
   },
   {
    "duration": 23,
    "start_time": "2022-05-31T19:01:02.567Z"
   },
   {
    "duration": 35,
    "start_time": "2022-05-31T19:01:02.592Z"
   },
   {
    "duration": 28,
    "start_time": "2022-05-31T19:01:02.629Z"
   },
   {
    "duration": 24,
    "start_time": "2022-05-31T19:01:02.659Z"
   },
   {
    "duration": 38,
    "start_time": "2022-05-31T19:01:02.685Z"
   },
   {
    "duration": 28,
    "start_time": "2022-05-31T19:01:02.724Z"
   },
   {
    "duration": 34,
    "start_time": "2022-05-31T19:01:02.754Z"
   },
   {
    "duration": 21,
    "start_time": "2022-05-31T19:01:02.791Z"
   },
   {
    "duration": 544,
    "start_time": "2022-05-31T19:01:02.815Z"
   },
   {
    "duration": 9,
    "start_time": "2022-05-31T19:01:03.361Z"
   },
   {
    "duration": 68,
    "start_time": "2022-05-31T19:01:03.372Z"
   },
   {
    "duration": 12,
    "start_time": "2022-05-31T19:01:03.442Z"
   },
   {
    "duration": 16,
    "start_time": "2022-05-31T19:01:03.455Z"
   },
   {
    "duration": 7,
    "start_time": "2022-05-31T19:01:03.473Z"
   },
   {
    "duration": 11,
    "start_time": "2022-05-31T19:01:03.482Z"
   },
   {
    "duration": 9,
    "start_time": "2022-05-31T19:01:03.495Z"
   },
   {
    "duration": 9,
    "start_time": "2022-05-31T19:01:03.506Z"
   },
   {
    "duration": 12,
    "start_time": "2022-05-31T19:01:03.516Z"
   },
   {
    "duration": 13,
    "start_time": "2022-05-31T19:01:03.530Z"
   },
   {
    "duration": 120,
    "start_time": "2022-05-31T19:01:03.545Z"
   },
   {
    "duration": 14,
    "start_time": "2022-05-31T19:01:03.667Z"
   },
   {
    "duration": 43,
    "start_time": "2022-05-31T19:01:03.683Z"
   },
   {
    "duration": 9,
    "start_time": "2022-05-31T19:01:03.728Z"
   },
   {
    "duration": 542,
    "start_time": "2022-05-31T19:01:03.739Z"
   },
   {
    "duration": 51,
    "start_time": "2022-05-31T19:01:04.283Z"
   },
   {
    "duration": 9,
    "start_time": "2022-05-31T19:01:04.336Z"
   },
   {
    "duration": 7,
    "start_time": "2022-05-31T19:01:04.347Z"
   },
   {
    "duration": 5,
    "start_time": "2022-05-31T19:01:04.360Z"
   },
   {
    "duration": 13,
    "start_time": "2022-05-31T19:01:04.367Z"
   },
   {
    "duration": 12,
    "start_time": "2022-05-31T19:01:04.382Z"
   },
   {
    "duration": 36,
    "start_time": "2022-05-31T19:01:04.396Z"
   },
   {
    "duration": 15,
    "start_time": "2022-05-31T19:01:04.434Z"
   },
   {
    "duration": 15,
    "start_time": "2022-05-31T19:01:04.451Z"
   },
   {
    "duration": 13,
    "start_time": "2022-05-31T19:01:04.467Z"
   },
   {
    "duration": 9,
    "start_time": "2022-05-31T19:01:04.482Z"
   },
   {
    "duration": 10,
    "start_time": "2022-05-31T19:01:04.493Z"
   },
   {
    "duration": 25,
    "start_time": "2022-05-31T19:01:04.505Z"
   }
  ],
  "kernelspec": {
   "display_name": "Python 3 (ipykernel)",
   "language": "python",
   "name": "python3"
  },
  "language_info": {
   "codemirror_mode": {
    "name": "ipython",
    "version": 3
   },
   "file_extension": ".py",
   "mimetype": "text/x-python",
   "name": "python",
   "nbconvert_exporter": "python",
   "pygments_lexer": "ipython3",
   "version": "3.9.12"
  },
  "toc": {
   "base_numbering": 1,
   "nav_menu": {},
   "number_sections": true,
   "sideBar": true,
   "skip_h1_title": true,
   "title_cell": "Table of Contents",
   "title_sidebar": "Contents",
   "toc_cell": false,
   "toc_position": {},
   "toc_section_display": true,
   "toc_window_display": false
  }
 },
 "nbformat": 4,
 "nbformat_minor": 5
}
